{
 "cells": [
  {
   "cell_type": "markdown",
   "metadata": {
    "id": "nNNobzQkpySj"
   },
   "source": [
    "# **NLP PROJECT**\n",
    "## Exploring the effects of different n-gram models and embedding techniques in automatic fake news detection.\n",
    "### Alessandro Cortese, Gianmarco Lodi - University of Twente"
   ]
  },
  {
   "cell_type": "markdown",
   "metadata": {},
   "source": [
    "# 1. Preprocessing"
   ]
  },
  {
   "cell_type": "markdown",
   "metadata": {
    "id": "EDVWizY3p9nf"
   },
   "source": [
    "## 1.1 Loading data and libraries"
   ]
  },
  {
   "cell_type": "code",
   "execution_count": 23,
   "metadata": {
    "executionInfo": {
     "elapsed": 2447,
     "status": "ok",
     "timestamp": 1666514687232,
     "user": {
      "displayName": "Alessandro Cortese",
      "userId": "14647393946910041170"
     },
     "user_tz": -120
    },
    "id": "Cx6K188QlNgk"
   },
   "outputs": [],
   "source": [
    "#from google.colab import drive\n",
    "from nltk.corpus import stopwords\n",
    "from nltk.tokenize import word_tokenize\n",
    "from nltk.stem import PorterStemmer\n",
    "from sklearn.feature_extraction.text import TfidfVectorizer\n",
    "from sklearn.svm import SVC\n",
    "from sklearn.ensemble import RandomForestClassifier\n",
    "from sklearn.metrics import accuracy_score, confusion_matrix, ConfusionMatrixDisplay\n",
    "from sklearn.inspection import permutation_importance\n",
    "from sklearn.model_selection import GridSearchCV\n",
    "from sklearn.preprocessing import OneHotEncoder\n",
    "from sklearn.random_projection import GaussianRandomProjection\n",
    "\n",
    "\n",
    "import gensim.downloader as api\n",
    "import gensim\n",
    "from gensim.models.word2vec import LineSentence, Word2Vec\n",
    "from gensim.models.doc2vec import Doc2Vec, TaggedDocument\n",
    "from gensim.models.phrases import Phrases, ENGLISH_CONNECTOR_WORDS\n",
    "\n",
    "import math\n",
    "import nltk\n",
    "import pandas as pd\n",
    "import re\n",
    "import numpy as np\n",
    "import matplotlib.pyplot as plt\n",
    "\n",
    "# Defining a functions to retrieve the feature importances barplot\n",
    "def f_importances(coef, names, k = 15):\n",
    "    imp = coef\n",
    "    imp,names = zip(*sorted(zip(imp[:k],names[:k])))\n",
    "    \n",
    "    plt.barh(range(len(names[:k])), imp[:k], align='center')\n",
    "    plt.yticks(range(len(names[:k])), names[:k])\n",
    "    plt.show()"
   ]
  },
  {
   "cell_type": "code",
   "execution_count": null,
   "metadata": {},
   "outputs": [],
   "source": [
    "# Loading the data from our drive\n",
    "curr_dir = \"/content/drive/MyDrive/HWs/NLP/Project/project\"\n",
    "drive.mount('/content/drive', force_remount=True)"
   ]
  },
  {
   "cell_type": "code",
   "execution_count": 2,
   "metadata": {
    "executionInfo": {
     "elapsed": 2296,
     "status": "ok",
     "timestamp": 1666514709789,
     "user": {
      "displayName": "Alessandro Cortese",
      "userId": "14647393946910041170"
     },
     "user_tz": -120
    },
    "id": "6JF8_mPelNgo"
   },
   "outputs": [],
   "source": [
    "def read_dataframe(tsv_file: str) -> pd.DataFrame:\n",
    "    \n",
    "    # create a dataframe\n",
    "    df = pd.read_csv(tsv_file, delimiter='\\t', dtype=object, header = None)\n",
    "    \n",
    "    # replace all \"null\" or \"NaN\" values with an empty string\n",
    "    df.fillna(\"\", inplace=True)\n",
    "    \n",
    "    # label the columns in the dataset\n",
    "    df.columns = [\n",
    "        'id',                # Column 1: the ID of the statement ([ID].json).\n",
    "        'label',             # Column 2: the label.\n",
    "        'statement',         # Column 3: the statement.\n",
    "        'subjects',          # Column 4: the subject(s).\n",
    "        'speaker',           # Column 5: the speaker.\n",
    "        'speaker_job_title', # Column 6: the speaker's job title.\n",
    "        'state_info',        # Column 7: the state info.\n",
    "        'party_affiliation', # Column 8: the party affiliation.\n",
    "        \n",
    "        # Column 9-13: the total credit history count, including the current statement.\n",
    "        'count_1', # barely true counts.\n",
    "        'count_2', # false counts.\n",
    "        'count_3', # half true counts.\n",
    "        'count_4', # mostly true counts.\n",
    "        'count_5', # pants on fire counts.\n",
    "        'context' # Column 14: the context (venue / location of the speech or statement).\n",
    "    ]\n",
    "    \n",
    "    return df\n",
    "\n",
    "#create three dataframes from the training, validation and the test data\n",
    "df_train = read_dataframe('liar_dataset/train.tsv')\n",
    "df_valid = read_dataframe('liar_dataset/valid.tsv')\n",
    "df_test = read_dataframe('liar_dataset/test.tsv')"
   ]
  },
  {
   "cell_type": "code",
   "execution_count": 3,
   "metadata": {},
   "outputs": [
    {
     "data": {
      "text/html": [
       "<div>\n",
       "<style scoped>\n",
       "    .dataframe tbody tr th:only-of-type {\n",
       "        vertical-align: middle;\n",
       "    }\n",
       "\n",
       "    .dataframe tbody tr th {\n",
       "        vertical-align: top;\n",
       "    }\n",
       "\n",
       "    .dataframe thead th {\n",
       "        text-align: right;\n",
       "    }\n",
       "</style>\n",
       "<table border=\"1\" class=\"dataframe\">\n",
       "  <thead>\n",
       "    <tr style=\"text-align: right;\">\n",
       "      <th></th>\n",
       "      <th>id</th>\n",
       "      <th>label</th>\n",
       "      <th>statement</th>\n",
       "      <th>subjects</th>\n",
       "      <th>speaker</th>\n",
       "      <th>speaker_job_title</th>\n",
       "      <th>state_info</th>\n",
       "      <th>party_affiliation</th>\n",
       "      <th>count_1</th>\n",
       "      <th>count_2</th>\n",
       "      <th>count_3</th>\n",
       "      <th>count_4</th>\n",
       "      <th>count_5</th>\n",
       "      <th>context</th>\n",
       "    </tr>\n",
       "  </thead>\n",
       "  <tbody>\n",
       "    <tr>\n",
       "      <th>0</th>\n",
       "      <td>2635.json</td>\n",
       "      <td>false</td>\n",
       "      <td>Says the Annies List political group supports ...</td>\n",
       "      <td>abortion</td>\n",
       "      <td>dwayne-bohac</td>\n",
       "      <td>State representative</td>\n",
       "      <td>Texas</td>\n",
       "      <td>republican</td>\n",
       "      <td>0</td>\n",
       "      <td>1</td>\n",
       "      <td>0</td>\n",
       "      <td>0</td>\n",
       "      <td>0</td>\n",
       "      <td>a mailer</td>\n",
       "    </tr>\n",
       "    <tr>\n",
       "      <th>1</th>\n",
       "      <td>10540.json</td>\n",
       "      <td>half-true</td>\n",
       "      <td>When did the decline of coal start? It started...</td>\n",
       "      <td>energy,history,job-accomplishments</td>\n",
       "      <td>scott-surovell</td>\n",
       "      <td>State delegate</td>\n",
       "      <td>Virginia</td>\n",
       "      <td>democrat</td>\n",
       "      <td>0</td>\n",
       "      <td>0</td>\n",
       "      <td>1</td>\n",
       "      <td>1</td>\n",
       "      <td>0</td>\n",
       "      <td>a floor speech.</td>\n",
       "    </tr>\n",
       "    <tr>\n",
       "      <th>2</th>\n",
       "      <td>324.json</td>\n",
       "      <td>mostly-true</td>\n",
       "      <td>Hillary Clinton agrees with John McCain \"by vo...</td>\n",
       "      <td>foreign-policy</td>\n",
       "      <td>barack-obama</td>\n",
       "      <td>President</td>\n",
       "      <td>Illinois</td>\n",
       "      <td>democrat</td>\n",
       "      <td>70</td>\n",
       "      <td>71</td>\n",
       "      <td>160</td>\n",
       "      <td>163</td>\n",
       "      <td>9</td>\n",
       "      <td>Denver</td>\n",
       "    </tr>\n",
       "    <tr>\n",
       "      <th>3</th>\n",
       "      <td>1123.json</td>\n",
       "      <td>false</td>\n",
       "      <td>Health care reform legislation is likely to ma...</td>\n",
       "      <td>health-care</td>\n",
       "      <td>blog-posting</td>\n",
       "      <td></td>\n",
       "      <td></td>\n",
       "      <td>none</td>\n",
       "      <td>7</td>\n",
       "      <td>19</td>\n",
       "      <td>3</td>\n",
       "      <td>5</td>\n",
       "      <td>44</td>\n",
       "      <td>a news release</td>\n",
       "    </tr>\n",
       "    <tr>\n",
       "      <th>4</th>\n",
       "      <td>9028.json</td>\n",
       "      <td>half-true</td>\n",
       "      <td>The economic turnaround started at the end of ...</td>\n",
       "      <td>economy,jobs</td>\n",
       "      <td>charlie-crist</td>\n",
       "      <td></td>\n",
       "      <td>Florida</td>\n",
       "      <td>democrat</td>\n",
       "      <td>15</td>\n",
       "      <td>9</td>\n",
       "      <td>20</td>\n",
       "      <td>19</td>\n",
       "      <td>2</td>\n",
       "      <td>an interview on CNN</td>\n",
       "    </tr>\n",
       "  </tbody>\n",
       "</table>\n",
       "</div>"
      ],
      "text/plain": [
       "           id        label                                          statement  \\\n",
       "0   2635.json        false  Says the Annies List political group supports ...   \n",
       "1  10540.json    half-true  When did the decline of coal start? It started...   \n",
       "2    324.json  mostly-true  Hillary Clinton agrees with John McCain \"by vo...   \n",
       "3   1123.json        false  Health care reform legislation is likely to ma...   \n",
       "4   9028.json    half-true  The economic turnaround started at the end of ...   \n",
       "\n",
       "                             subjects         speaker     speaker_job_title  \\\n",
       "0                            abortion    dwayne-bohac  State representative   \n",
       "1  energy,history,job-accomplishments  scott-surovell        State delegate   \n",
       "2                      foreign-policy    barack-obama             President   \n",
       "3                         health-care    blog-posting                         \n",
       "4                        economy,jobs   charlie-crist                         \n",
       "\n",
       "  state_info party_affiliation count_1 count_2 count_3 count_4 count_5  \\\n",
       "0      Texas        republican       0       1       0       0       0   \n",
       "1   Virginia          democrat       0       0       1       1       0   \n",
       "2   Illinois          democrat      70      71     160     163       9   \n",
       "3                         none       7      19       3       5      44   \n",
       "4    Florida          democrat      15       9      20      19       2   \n",
       "\n",
       "               context  \n",
       "0             a mailer  \n",
       "1      a floor speech.  \n",
       "2               Denver  \n",
       "3       a news release  \n",
       "4  an interview on CNN  "
      ]
     },
     "execution_count": 3,
     "metadata": {},
     "output_type": "execute_result"
    }
   ],
   "source": [
    "df_train.head()"
   ]
  },
  {
   "cell_type": "code",
   "execution_count": 4,
   "metadata": {
    "executionInfo": {
     "elapsed": 18,
     "status": "ok",
     "timestamp": 1666514709794,
     "user": {
      "displayName": "Alessandro Cortese",
      "userId": "14647393946910041170"
     },
     "user_tz": -120
    },
    "id": "OlAq8jUxlNgs"
   },
   "outputs": [],
   "source": [
    "### DROP UNUSED COLUMNS\n",
    "df_train = df_train.drop(['speaker', 'speaker_job_title', 'count_1', 'count_2', 'count_3', 'count_4', 'count_5'], axis =1)\n",
    "df_valid = df_valid.drop(['speaker', 'speaker_job_title', 'count_1', 'count_2', 'count_3', 'count_4', 'count_5'], axis =1)\n",
    "df_test = df_test.drop(['speaker', 'speaker_job_title', 'count_1', 'count_2', 'count_3', 'count_4', 'count_5'], axis =1)"
   ]
  },
  {
   "cell_type": "code",
   "execution_count": 5,
   "metadata": {
    "executionInfo": {
     "elapsed": 16,
     "status": "ok",
     "timestamp": 1666514709794,
     "user": {
      "displayName": "Alessandro Cortese",
      "userId": "14647393946910041170"
     },
     "user_tz": -120
    },
    "id": "B0ZDtIfXxc34"
   },
   "outputs": [],
   "source": [
    "### DROP INTERMEDIATE LABELS 'HALF TRUE' AND 'BARELY TRUE'\n",
    "df_train = df_train[(df_train[\"label\"] != \"half-true\") & (df_train[\"label\"] != \"barely-true\")]\n",
    "df_valid = df_valid[(df_valid[\"label\"] != \"half-true\") & (df_valid[\"label\"] != \"barely-true\")]\n",
    "df_test = df_test[(df_test[\"label\"] != \"half-true\") & (df_test[\"label\"] != \"barely-true\")]"
   ]
  },
  {
   "cell_type": "code",
   "execution_count": 6,
   "metadata": {},
   "outputs": [
    {
     "name": "stdout",
     "output_type": "stream",
     "text": [
      "6489\n",
      "799\n",
      "795\n",
      "8083\n"
     ]
    }
   ],
   "source": [
    "### SHAPES AT THE BEGINNING\n",
    "print(df_train.shape[0])\n",
    "print(df_valid.shape[0])\n",
    "print(df_test.shape[0])\n",
    "print(df_train.shape[0]+df_valid.shape[0]+df_test.shape[0])"
   ]
  },
  {
   "cell_type": "code",
   "execution_count": 7,
   "metadata": {
    "executionInfo": {
     "elapsed": 732,
     "status": "ok",
     "timestamp": 1666514710514,
     "user": {
      "displayName": "Alessandro Cortese",
      "userId": "14647393946910041170"
     },
     "user_tz": -120
    },
    "id": "CtQLFVrrlNhB"
   },
   "outputs": [],
   "source": [
    "# Relabeling the dataset\n",
    "labels = {\n",
    "    'false': 0,\n",
    "    'pants-fire': 0,\n",
    "    'mostly-true': 1,\n",
    "    'true': 1\n",
    "}\n",
    "\n",
    "df_train = df_train.replace(labels)\n",
    "df_valid = df_valid.replace(labels)\n",
    "df_test = df_test.replace(labels)"
   ]
  },
  {
   "cell_type": "code",
   "execution_count": 8,
   "metadata": {
    "colab": {
     "base_uri": "https://localhost:8080/"
    },
    "executionInfo": {
     "elapsed": 32,
     "status": "ok",
     "timestamp": 1666445011687,
     "user": {
      "displayName": "Alessandro Cortese",
      "userId": "14647393946910041170"
     },
     "user_tz": -120
    },
    "id": "UOLSNrDxxJr3",
    "outputId": "4630f08f-777e-4ca9-f03e-982c1068b933"
   },
   "outputs": [
    {
     "name": "stdout",
     "output_type": "stream",
     "text": [
      "1    4523\n",
      "0    3560\n",
      "Name: label, dtype: int64\n"
     ]
    }
   ],
   "source": [
    "df_train = df_train.reset_index().drop(['index'], axis = 1)\n",
    "df_test = df_test.reset_index().drop(['index'], axis = 1)\n",
    "df_valid = df_valid.reset_index().drop(['index'], axis = 1)\n",
    "\n",
    "df_tot = pd.concat([df_train, df_valid, df_test])\n",
    "print(df_tot['label'].value_counts())"
   ]
  },
  {
   "cell_type": "markdown",
   "metadata": {},
   "source": [
    "## 1.2 Further dataframes cleaning"
   ]
  },
  {
   "cell_type": "code",
   "execution_count": 9,
   "metadata": {},
   "outputs": [],
   "source": [
    "def count_words(phrase):\n",
    "    return len(word_tokenize(re.sub(r'[^\\w\\s]', ' ', phrase.lower())))"
   ]
  },
  {
   "cell_type": "code",
   "execution_count": 10,
   "metadata": {},
   "outputs": [
    {
     "name": "stdout",
     "output_type": "stream",
     "text": [
      "Max lenght: 73\n",
      "Min lenght: 2\n",
      "Avg lenght: 17.91104787826302\n"
     ]
    }
   ],
   "source": [
    "# Analysing lengths of the statements \n",
    "statements_lengths = [count_words(df_tot.iloc[i]['statement']) for i in range(df_tot.shape[0])]\n",
    "\n",
    "print('Max lenght: ' + str(max(statements_lengths)))\n",
    "print('Min lenght: ' + str(min(statements_lengths)))\n",
    "print('Avg lenght: ' + str(np.average(statements_lengths)))"
   ]
  },
  {
   "cell_type": "code",
   "execution_count": 11,
   "metadata": {},
   "outputs": [],
   "source": [
    "### DROP ROWS STARTING WITH 'ON ' AND WITH LESS THAN 8 WORDS --> NEWS TITLES\n",
    "\n",
    "for i,x in df_train.iterrows():\n",
    "    if count_words(x['statement']) < 8 and x['statement'].startswith('On '):\n",
    "        df_train.drop(i, inplace=True)\n",
    "\n",
    "for i,x in df_test.iterrows():\n",
    "    if count_words(x['statement']) < 8 and x['statement'].startswith('On '):\n",
    "        df_test.drop(i, inplace=True)\n",
    "\n",
    "for i,x in df_valid.iterrows():\n",
    "    if count_words(x['statement']) < 8 and x['statement'].startswith('On '):\n",
    "        df_valid.drop(i, inplace=True)"
   ]
  },
  {
   "cell_type": "code",
   "execution_count": 12,
   "metadata": {},
   "outputs": [
    {
     "name": "stdout",
     "output_type": "stream",
     "text": [
      "6416\n",
      "794\n",
      "783\n",
      "(7993, 7)\n"
     ]
    }
   ],
   "source": [
    "### SHAPES AFTER CLEANING\n",
    "print(df_train.shape[0])\n",
    "print(df_valid.shape[0])\n",
    "print(df_test.shape[0])\n",
    "df_tot = pd.concat([df_train, df_valid, df_test])\n",
    "print(df_tot.shape)"
   ]
  },
  {
   "cell_type": "markdown",
   "metadata": {
    "id": "vbGVZ6_kxJAv"
   },
   "source": [
    "## 1.3 Data preparation"
   ]
  },
  {
   "cell_type": "code",
   "execution_count": 13,
   "metadata": {
    "id": "KDgnhuyFlNgz"
   },
   "outputs": [],
   "source": [
    "# Creating the corpus lists extracting each statement from the dataframes\n",
    "corpus_train = list(df_train['statement'])\n",
    "corpus_valid = list(df_valid['statement'])\n",
    "corpus_test = list(df_test['statement'])\n",
    "corpus_tot = list(df_tot['statement'])"
   ]
  },
  {
   "cell_type": "code",
   "execution_count": 14,
   "metadata": {
    "id": "ZmsTdn0WZjK9"
   },
   "outputs": [],
   "source": [
    "# Creating the vectors for the labels\n",
    "y_train = list(df_train['label'])\n",
    "y_valid = list(df_valid['label'])\n",
    "y_test = list(df_test['label'])"
   ]
  },
  {
   "cell_type": "code",
   "execution_count": 15,
   "metadata": {
    "colab": {
     "base_uri": "https://localhost:8080/"
    },
    "executionInfo": {
     "elapsed": 30,
     "status": "ok",
     "timestamp": 1666445011689,
     "user": {
      "displayName": "Alessandro Cortese",
      "userId": "14647393946910041170"
     },
     "user_tz": -120
    },
    "id": "wA_hE67nlNgz",
    "outputId": "b08913bb-7192-4e57-93a5-936c17bc5a06"
   },
   "outputs": [
    {
     "name": "stderr",
     "output_type": "stream",
     "text": [
      "[nltk_data] Downloading package stopwords to /Users/gimmi/nltk_data...\n",
      "[nltk_data]   Package stopwords is already up-to-date!\n",
      "[nltk_data] Downloading package punkt to /Users/gimmi/nltk_data...\n",
      "[nltk_data]   Package punkt is already up-to-date!\n"
     ]
    }
   ],
   "source": [
    "# Defining functions for tokenization and stemming\n",
    "\n",
    "nltk.download('stopwords')\n",
    "nltk.download('punkt')\n",
    "my_stopwords = set(stopwords.words()) # defining the stopwords corpus\n",
    "\n",
    "def tokenize_sent(sent):\n",
    "    sent = re.sub(r'[^\\w\\s]', ' ', sent)\n",
    "    tokenized_sent = word_tokenize(sent.lower()) # We apply case folding and we tokenize\n",
    "    tokenized_sent = [word for word in tokenized_sent if not word in my_stopwords] # We remove stopwords\n",
    "    return tokenized_sent\n",
    "\n",
    "def stem_corpus(stemmer, corpus):\n",
    "    corpus_stemmed = []\n",
    "    for x in corpus:\n",
    "        x_tkn = tokenize_sent(x)\n",
    "        sent_tkn = []\n",
    "        for xi in x_tkn:\n",
    "            sent_tkn.append(porter.stem(xi))\n",
    "        corpus_stemmed.append(sent_tkn)\n",
    "    return corpus_stemmed"
   ]
  },
  {
   "cell_type": "markdown",
   "metadata": {
    "id": "_vMwab4QO2Aj"
   },
   "source": [
    "Now we apply Porter stemming.\n"
   ]
  },
  {
   "cell_type": "code",
   "execution_count": 17,
   "metadata": {
    "id": "SrB0EfHTlNg1"
   },
   "outputs": [],
   "source": [
    "# Stemming the whole corpus\n",
    "porter = PorterStemmer()\n",
    "stemmed_corpus = stem_corpus(porter, corpus_tot) # list of list of stemmed words\n",
    "stemmed_corpus_list = [' '.join(x) for x in stemmed_corpus] # list of stemmed sentences"
   ]
  },
  {
   "cell_type": "markdown",
   "metadata": {
    "id": "LSC6CCHc5zmT"
   },
   "source": [
    "## 1.4 Exploratory data analysis"
   ]
  },
  {
   "cell_type": "code",
   "execution_count": 19,
   "metadata": {
    "id": "ycrxbsKx52zI"
   },
   "outputs": [],
   "source": [
    "## WORK IN PROGRESS..."
   ]
  },
  {
   "cell_type": "markdown",
   "metadata": {},
   "source": [
    "# 2. TF-IDF"
   ]
  },
  {
   "cell_type": "markdown",
   "metadata": {
    "id": "sbz-KCVuO8vF"
   },
   "source": [
    "## 2.1 Using a tf-idf document-term matrix with unigrams "
   ]
  },
  {
   "cell_type": "markdown",
   "metadata": {},
   "source": [
    "Notice in all the following model specifications we will be using the parameter min_df = 3. This means that, when building the dictionary, it will ignore terms that have a frequency lower than 3. We use this for computational reasons (otherwise the matrix we get with bigrams and trigrams will be extremely big)."
   ]
  },
  {
   "cell_type": "code",
   "execution_count": 20,
   "metadata": {
    "colab": {
     "base_uri": "https://localhost:8080/"
    },
    "executionInfo": {
     "elapsed": 320,
     "status": "ok",
     "timestamp": 1666445014182,
     "user": {
      "displayName": "Alessandro Cortese",
      "userId": "14647393946910041170"
     },
     "user_tz": -120
    },
    "id": "TCVtPLJ9Vbdo",
    "outputId": "b0bfdaf0-8979-4209-88a1-547169bf07b0"
   },
   "outputs": [
    {
     "name": "stdout",
     "output_type": "stream",
     "text": [
      "(7993, 3062)\n"
     ]
    }
   ],
   "source": [
    "# Creating the tf-idf feature matrix\n",
    "TfV = TfidfVectorizer(min_df = 3)\n",
    "X = TfV.fit_transform(stemmed_corpus_list)\n",
    "tfidf_matrix = pd.DataFrame(X.toarray(), index = range(X.shape[0]), columns = sorted(TfV.vocabulary_.keys()))\n",
    "print(tfidf_matrix.shape)"
   ]
  },
  {
   "cell_type": "code",
   "execution_count": 21,
   "metadata": {
    "id": "OpU9alxUlNhC"
   },
   "outputs": [],
   "source": [
    "# Train-valid-test split\n",
    "X_train_tfidf = X.toarray()[:df_train.shape[0]]\n",
    "X_valid_tfidf = X.toarray()[df_train.shape[0]:-df_test.shape[0]]\n",
    "X_test_tfidf = X.toarray()[-df_test.shape[0]:]"
   ]
  },
  {
   "cell_type": "markdown",
   "metadata": {
    "id": "Cfm-ZOsJEng_"
   },
   "source": [
    "### 2.1.1 Support Vector Machine with linear kernel"
   ]
  },
  {
   "cell_type": "markdown",
   "metadata": {
    "id": "xvgOvaiB9stC"
   },
   "source": [
    "#### Hyperparameter tuning"
   ]
  },
  {
   "cell_type": "code",
   "execution_count": 20,
   "metadata": {
    "colab": {
     "base_uri": "https://localhost:8080/"
    },
    "executionInfo": {
     "elapsed": 378290,
     "status": "ok",
     "timestamp": 1666445392471,
     "user": {
      "displayName": "Alessandro Cortese",
      "userId": "14647393946910041170"
     },
     "user_tz": -120
    },
    "id": "VYd24YFT19el",
    "outputId": "29efbad9-9987-4b9e-ee4a-ea9af9cf3edd"
   },
   "outputs": [
    {
     "name": "stdout",
     "output_type": "stream",
     "text": [
      "ACCURACY SCORE with C = 0.001 is: 0.5277078085642317\n",
      "ACCURACY SCORE with C = 0.01 is: 0.5277078085642317\n",
      "ACCURACY SCORE with C = 0.1 is: 0.5604534005037783\n",
      "ACCURACY SCORE with C = 1 is: 0.646095717884131\n",
      "ACCURACY SCORE with C = 10 is: 0.5856423173803527\n",
      "ACCURACY SCORE with C = 100 is: 0.5730478589420654\n",
      "ACCURACY SCORE with C = 1000 is: 0.5768261964735516\n",
      "The maximum accuracy is reached with C =  1\n"
     ]
    }
   ],
   "source": [
    "# Hyperparameter tuning of the cost parameter with validation set approach and grid search.\n",
    "grid_params = []\n",
    "for cost in [0.001, 0.01, 0.1, 1, 10, 100, 1000]:\n",
    "    svm = SVC(kernel='linear', C = cost)\n",
    "    svm.fit(X_train_tfidf, y_train)\n",
    "    y_pred_tfidf_valid = svm.predict(X_valid_tfidf)\n",
    "    acc = accuracy_score(y_valid, y_pred_tfidf_valid)\n",
    "    grid_params.append((cost, acc))\n",
    "    print(f\"ACCURACY SCORE with C = {cost} is: {acc}\")\n",
    "\n",
    "best_param = max(grid_params, key = lambda x: x[1])[0]\n",
    "print(\"The maximum accuracy is reached with C = \", best_param)"
   ]
  },
  {
   "cell_type": "markdown",
   "metadata": {
    "id": "RBM3Ln6Q9yxm"
   },
   "source": [
    "#### Predicting on the test set"
   ]
  },
  {
   "cell_type": "code",
   "execution_count": 21,
   "metadata": {
    "colab": {
     "base_uri": "https://localhost:8080/",
     "height": 297
    },
    "executionInfo": {
     "elapsed": 56659,
     "status": "ok",
     "timestamp": 1666445449121,
     "user": {
      "displayName": "Alessandro Cortese",
      "userId": "14647393946910041170"
     },
     "user_tz": -120
    },
    "id": "vZ-OSQcW22NH",
    "outputId": "83f9ebc0-b9e9-44fa-c96f-9f3a02094c34"
   },
   "outputs": [
    {
     "name": "stdout",
     "output_type": "stream",
     "text": [
      "Accuracy:  0.611749680715198\n"
     ]
    },
    {
     "data": {
      "image/png": "[encoded data removed]",
      "text/plain": [
       "<Figure size 432x288 with 2 Axes>"
      ]
     },
     "metadata": {
      "needs_background": "light"
     },
     "output_type": "display_data"
    }
   ],
   "source": [
    "svm = SVC(kernel='linear', C = best_param) # we select the best cost parameter according to our grid search above\n",
    "svm.fit(X_train_tfidf, y_train)\n",
    "y_pred_tfidf = svm.predict(X_test_tfidf)\n",
    "\n",
    "# Test accuracy\n",
    "print(\"Accuracy: \", accuracy_score(y_test, y_pred_tfidf))\n",
    "\n",
    "conf_mat = ConfusionMatrixDisplay(confusion_matrix(y_test, y_pred_tfidf))\n",
    "conf_mat.plot()\n",
    "plt.show()"
   ]
  },
  {
   "cell_type": "markdown",
   "metadata": {
    "id": "mSrf72s3Ln_9"
   },
   "source": [
    "#### Feature importance\n",
    "\n"
   ]
  },
  {
   "cell_type": "code",
   "execution_count": 22,
   "metadata": {
    "id": "rfunTTas42KM"
   },
   "outputs": [],
   "source": []
  },
  {
   "cell_type": "code",
   "execution_count": 23,
   "metadata": {
    "colab": {
     "base_uri": "https://localhost:8080/",
     "height": 265
    },
    "executionInfo": {
     "elapsed": 360,
     "status": "ok",
     "timestamp": 1666445449468,
     "user": {
      "displayName": "Alessandro Cortese",
      "userId": "14647393946910041170"
     },
     "user_tz": -120
    },
    "id": "yz7iGYBBLqah",
    "outputId": "9c279fa3-a916-4154-f4b8-b196f605837e"
   },
   "outputs": [
    {
     "data": {
      "image/png": "[encoded data removed]",
      "text/plain": [
       "<Figure size 432x288 with 1 Axes>"
      ]
     },
     "metadata": {
      "needs_background": "light"
     },
     "output_type": "display_data"
    }
   ],
   "source": [
    "# Feature importance: ranking the coefficients of the SVM model\n",
    "sorted_feat_vocab = sorted(TfV.vocabulary_.keys())\n",
    "coef_svm = list(enumerate(svm.coef_[0]))\n",
    "coef_svm = sorted(coef_svm, key = lambda k:k[1], reverse=True) # we sort the coefficients from highest to lowest\n",
    "feature_names = []\n",
    "\n",
    "for i,x in coef_svm:\n",
    "    feature_names.append(sorted_feat_vocab[i])\n",
    "coef_svm = [x[1] for x in coef_svm]\n",
    "\n",
    "f_importances(coef_svm, feature_names, 15)"
   ]
  },
  {
   "cell_type": "markdown",
   "metadata": {
    "id": "hcuChw6xErFu"
   },
   "source": [
    "### 2.1.2 Random Forest "
   ]
  },
  {
   "cell_type": "markdown",
   "metadata": {
    "id": "g5LeuzVUFb21"
   },
   "source": [
    "#### Hyperparameter tuning"
   ]
  },
  {
   "cell_type": "code",
   "execution_count": 26,
   "metadata": {
    "colab": {
     "base_uri": "https://localhost:8080/"
    },
    "executionInfo": {
     "elapsed": 318311,
     "status": "ok",
     "timestamp": 1666445767771,
     "user": {
      "displayName": "Alessandro Cortese",
      "userId": "14647393946910041170"
     },
     "user_tz": -120
    },
    "id": "aDHFYOeRKBCj",
    "outputId": "1851cbb3-eb42-43a7-8b70-d3babf1463ff"
   },
   "outputs": [
    {
     "name": "stdout",
     "output_type": "stream",
     "text": [
      "ACCURACY SCORE with N_TREES = 50 is: 0.6360201511335013\n",
      "ACCURACY SCORE with N_TREES = 100 is: 0.6309823677581864\n",
      "ACCURACY SCORE with N_TREES = 200 is: 0.6322418136020151\n",
      "ACCURACY SCORE with N_TREES = 500 is: 0.6234256926952141\n",
      "ACCURACY SCORE with N_TREES = 1000 is: 0.6335012594458438\n",
      "The maximum accuracy is reached with n_trees =  50\n"
     ]
    }
   ],
   "source": [
    "# Hyperparameter tuning \n",
    "grid_params = []\n",
    "for n_trees in [50, 100, 200, 500, 1000]:\n",
    "        rfc = RandomForestClassifier(n_estimators = n_trees, random_state = 16)\n",
    "        rfc.fit(X_train_tfidf, y_train)\n",
    "        y_pred_tfidf_valid = rfc.predict(X_valid_tfidf)\n",
    "        acc = accuracy_score(y_valid, y_pred_tfidf_valid)\n",
    "        grid_params.append((n_trees, acc))\n",
    "        print(f\"ACCURACY SCORE with N_TREES = {n_trees} is: {acc}\")\n",
    "\n",
    "best_param = max(grid_params, key = lambda x: x[1])[0]\n",
    "print(\"The maximum accuracy is reached with n_trees = \", best_param)"
   ]
  },
  {
   "cell_type": "markdown",
   "metadata": {
    "id": "K4ihDE00-2xj"
   },
   "source": [
    "#### Predicting on the test set"
   ]
  },
  {
   "cell_type": "code",
   "execution_count": 27,
   "metadata": {
    "colab": {
     "base_uri": "https://localhost:8080/",
     "height": 297
    },
    "executionInfo": {
     "elapsed": 16930,
     "status": "ok",
     "timestamp": 1666445784695,
     "user": {
      "displayName": "Alessandro Cortese",
      "userId": "14647393946910041170"
     },
     "user_tz": -120
    },
    "id": "gtMCd-iEFBgU",
    "outputId": "cac48c33-456c-47a9-e02a-0c3e8c71db9e"
   },
   "outputs": [
    {
     "name": "stdout",
     "output_type": "stream",
     "text": [
      "Accuracy:  0.6155810983397191\n"
     ]
    },
    {
     "data": {
      "image/png": "[encoded data removed]",
      "text/plain": [
       "<Figure size 432x288 with 2 Axes>"
      ]
     },
     "metadata": {
      "needs_background": "light"
     },
     "output_type": "display_data"
    }
   ],
   "source": [
    "rfc = RandomForestClassifier(n_estimators = best_param, random_state = 16)\n",
    "rfc.fit(X_train_tfidf, y_train)\n",
    "y_pred_tfidf = rfc.predict(X_test_tfidf)\n",
    "\n",
    "# Test accuracy\n",
    "print(\"Accuracy: \", accuracy_score(y_test, y_pred_tfidf))\n",
    "\n",
    "conf_mat = ConfusionMatrixDisplay(confusion_matrix(y_test, y_pred_tfidf))\n",
    "conf_mat.plot()\n",
    "plt.show()"
   ]
  },
  {
   "cell_type": "markdown",
   "metadata": {
    "id": "AwPbEiEM4JjB"
   },
   "source": [
    "#### Feature importance"
   ]
  },
  {
   "cell_type": "code",
   "execution_count": 29,
   "metadata": {
    "colab": {
     "base_uri": "https://localhost:8080/",
     "height": 265
    },
    "executionInfo": {
     "elapsed": 30,
     "status": "ok",
     "timestamp": 1666445784700,
     "user": {
      "displayName": "Alessandro Cortese",
      "userId": "14647393946910041170"
     },
     "user_tz": -120
    },
    "id": "y_qK_MIiGWuE",
    "outputId": "6cbe7eb6-fd3b-4579-a30d-81480b6d89e5"
   },
   "outputs": [
    {
     "data": {
      "image/png": "[encoded data removed]",
      "text/plain": [
       "<Figure size 432x288 with 1 Axes>"
      ]
     },
     "metadata": {
      "needs_background": "light"
     },
     "output_type": "display_data"
    }
   ],
   "source": [
    "zipped_list = zip(sorted_feat_vocab, rfc.feature_importances_)\n",
    "\n",
    "importances = sorted(zipped_list, key = lambda k:k[1], reverse = True) # we sort the coefficients from highest to lowest\n",
    "coeffs = list(zip(*importances))[1]\n",
    "names = list(zip(*importances))[0]\n",
    "    \n",
    "f_importances(coeffs, names, k = 15) "
   ]
  },
  {
   "cell_type": "markdown",
   "metadata": {
    "id": "y5Vg6RvQ1Obv"
   },
   "source": [
    "## 2.2 Using a tf-idf document-term matrix with bigrams"
   ]
  },
  {
   "cell_type": "code",
   "execution_count": 24,
   "metadata": {
    "colab": {
     "base_uri": "https://localhost:8080/"
    },
    "executionInfo": {
     "elapsed": 321,
     "status": "ok",
     "timestamp": 1666445784995,
     "user": {
      "displayName": "Alessandro Cortese",
      "userId": "14647393946910041170"
     },
     "user_tz": -120
    },
    "id": "35rGRCYhPfC5",
    "outputId": "13d8e4c8-f799-43f3-e45d-e542867612a3"
   },
   "outputs": [
    {
     "name": "stdout",
     "output_type": "stream",
     "text": [
      "(7993, 2601)\n"
     ]
    }
   ],
   "source": [
    "# Creating a tf-idf feature matrix for bigrams\n",
    "TfV = TfidfVectorizer(ngram_range = (2,2), min_df = 3)\n",
    "X = TfV.fit_transform(stemmed_corpus_list)\n",
    "tfidf_matrix = pd.DataFrame(X.toarray())\n",
    "\n",
    "print(tfidf_matrix.shape)"
   ]
  },
  {
   "cell_type": "code",
   "execution_count": 25,
   "metadata": {
    "id": "JpwxHppg2XeU"
   },
   "outputs": [],
   "source": [
    "# Train-valid-test split\n",
    "X_train_tfidf = X.toarray()[:df_train.shape[0]]\n",
    "X_valid_tfidf = X.toarray()[df_train.shape[0]:-df_test.shape[0]]\n",
    "X_test_tfidf = X.toarray()[-df_test.shape[0]:]"
   ]
  },
  {
   "cell_type": "markdown",
   "metadata": {
    "id": "QiUVLVFTFIrT"
   },
   "source": [
    "### 2.2.1 Support Vector Machine with linear kernel"
   ]
  },
  {
   "cell_type": "markdown",
   "metadata": {
    "id": "OHS5y3afFIrV"
   },
   "source": [
    "#### Hyperparameter tuning"
   ]
  },
  {
   "cell_type": "code",
   "execution_count": 32,
   "metadata": {
    "colab": {
     "base_uri": "https://localhost:8080/"
    },
    "executionInfo": {
     "elapsed": 319535,
     "status": "ok",
     "timestamp": 1666446104525,
     "user": {
      "displayName": "Alessandro Cortese",
      "userId": "14647393946910041170"
     },
     "user_tz": -120
    },
    "id": "LcT4ekWfFIrW",
    "outputId": "a538ce4d-411f-4318-b8c8-0590b12d233b"
   },
   "outputs": [
    {
     "name": "stdout",
     "output_type": "stream",
     "text": [
      "ACCURACY SCORE with C = 0.001 is: 0.5277078085642317\n",
      "ACCURACY SCORE with C = 0.01 is: 0.5277078085642317\n",
      "ACCURACY SCORE with C = 0.1 is: 0.5465994962216625\n",
      "ACCURACY SCORE with C = 1 is: 0.6007556675062973\n",
      "ACCURACY SCORE with C = 10 is: 0.5579345088161209\n",
      "ACCURACY SCORE with C = 100 is: 0.5440806045340051\n",
      "The maximum accuracy is reached with C =  1\n"
     ]
    }
   ],
   "source": [
    "# Hyperparameter tuning of the cost parameter with validation set approach and grid search.\n",
    "grid_params = []\n",
    "for cost in [0.001, 0.01, 0.1, 1, 10, 100]:\n",
    "    svm = SVC(kernel='linear', C = cost)\n",
    "    svm.fit(X_train_tfidf, y_train)\n",
    "    y_pred_tfidf_valid = svm.predict(X_valid_tfidf)\n",
    "    acc = accuracy_score(y_valid, y_pred_tfidf_valid)\n",
    "    grid_params.append((cost, acc))\n",
    "    print(f\"ACCURACY SCORE with C = {cost} is: {acc}\")\n",
    "\n",
    "best_param = max(grid_params, key = lambda x: x[1])[0]\n",
    "print(\"The maximum accuracy is reached with C = \", best_param)"
   ]
  },
  {
   "cell_type": "markdown",
   "metadata": {
    "id": "OYsK0bOsFIrX"
   },
   "source": [
    "#### Predicting on the test set"
   ]
  },
  {
   "cell_type": "code",
   "execution_count": 33,
   "metadata": {
    "colab": {
     "base_uri": "https://localhost:8080/",
     "height": 297
    },
    "executionInfo": {
     "elapsed": 53100,
     "status": "ok",
     "timestamp": 1666446157620,
     "user": {
      "displayName": "Alessandro Cortese",
      "userId": "14647393946910041170"
     },
     "user_tz": -120
    },
    "id": "QiC0aWrwFIrY",
    "outputId": "00c61456-49ee-45fe-9fe6-1d95e4026318"
   },
   "outputs": [
    {
     "name": "stdout",
     "output_type": "stream",
     "text": [
      "Accuracy:  0.6040868454661558\n"
     ]
    },
    {
     "data": {
      "image/png": "[encoded data removed]",
      "text/plain": [
       "<Figure size 432x288 with 2 Axes>"
      ]
     },
     "metadata": {
      "needs_background": "light"
     },
     "output_type": "display_data"
    }
   ],
   "source": [
    "svm = SVC(kernel='linear', C = best_param) # we select the best cost parameter according to our grid search above\n",
    "svm.fit(X_train_tfidf, y_train)\n",
    "y_pred_tfidf = svm.predict(X_test_tfidf)\n",
    "\n",
    "# Test accuracy\n",
    "print(\"Accuracy: \", accuracy_score(y_test, y_pred_tfidf))\n",
    "\n",
    "conf_mat = ConfusionMatrixDisplay(confusion_matrix(y_test, y_pred_tfidf))\n",
    "conf_mat.plot()\n",
    "plt.show()"
   ]
  },
  {
   "cell_type": "markdown",
   "metadata": {
    "id": "2J3Q7l45FIrZ"
   },
   "source": [
    "#### Feature importance\n",
    "\n"
   ]
  },
  {
   "cell_type": "code",
   "execution_count": 34,
   "metadata": {
    "colab": {
     "base_uri": "https://localhost:8080/",
     "height": 265
    },
    "executionInfo": {
     "elapsed": 26,
     "status": "ok",
     "timestamp": 1666446157624,
     "user": {
      "displayName": "Alessandro Cortese",
      "userId": "14647393946910041170"
     },
     "user_tz": -120
    },
    "id": "FtZNawoMFIra",
    "outputId": "c16d2ce5-8763-42ae-d3fb-a11c3888d210"
   },
   "outputs": [
    {
     "data": {
      "image/png": "[encoded data removed]",
      "text/plain": [
       "<Figure size 432x288 with 1 Axes>"
      ]
     },
     "metadata": {
      "needs_background": "light"
     },
     "output_type": "display_data"
    }
   ],
   "source": [
    "# Feature importance: ranking the coefficients of the SVM model\n",
    "sorted_feat_vocab = sorted(TfV.vocabulary_.keys())\n",
    "coef_svm = list(enumerate(svm.coef_[0]))\n",
    "coef_svm = sorted(coef_svm, key = lambda k:k[1], reverse=True) # we sort the coefficients from highest to lowest\n",
    "feature_names = []\n",
    "\n",
    "for i,x in coef_svm:\n",
    "    feature_names.append(sorted_feat_vocab[i])\n",
    "coef_svm = [x[1] for x in coef_svm]\n",
    "\n",
    "f_importances(coef_svm, feature_names, 15)"
   ]
  },
  {
   "cell_type": "markdown",
   "metadata": {
    "id": "aPGTpg7fFIrb"
   },
   "source": [
    "### 2.2.2 Random Forest "
   ]
  },
  {
   "cell_type": "markdown",
   "metadata": {
    "id": "1abw5D0nFeTU"
   },
   "source": [
    "#### Hyperparameter tuning"
   ]
  },
  {
   "cell_type": "code",
   "execution_count": 36,
   "metadata": {
    "colab": {
     "base_uri": "https://localhost:8080/"
    },
    "executionInfo": {
     "elapsed": 1081980,
     "status": "ok",
     "timestamp": 1666447239583,
     "user": {
      "displayName": "Alessandro Cortese",
      "userId": "14647393946910041170"
     },
     "user_tz": -120
    },
    "id": "ebSO_ki8FIrb",
    "outputId": "aa60a73f-142a-425e-e65f-8b7aaf7a011d"
   },
   "outputs": [
    {
     "name": "stdout",
     "output_type": "stream",
     "text": [
      "ACCURACY SCORE with N_TREES = 50 is: 0.5604534005037783\n",
      "ACCURACY SCORE with N_TREES = 100 is: 0.5692695214105793\n",
      "ACCURACY SCORE with N_TREES = 200 is: 0.5692695214105793\n",
      "ACCURACY SCORE with N_TREES = 500 is: 0.5730478589420654\n",
      "ACCURACY SCORE with N_TREES = 1000 is: 0.5680100755667506\n",
      "The maximum accuracy is reached with n_trees =  500\n"
     ]
    }
   ],
   "source": [
    "# Hyperparameter tuning \n",
    "grid_params = []\n",
    "for n_trees in [50, 100, 200, 500, 1000]:\n",
    "        rfc = RandomForestClassifier(n_estimators = n_trees, random_state = 16)\n",
    "        rfc.fit(X_train_tfidf, y_train)\n",
    "        y_pred_tfidf_valid = rfc.predict(X_valid_tfidf)\n",
    "        acc = accuracy_score(y_valid, y_pred_tfidf_valid)\n",
    "        grid_params.append((n_trees, acc))\n",
    "        print(f\"ACCURACY SCORE with N_TREES = {n_trees} is: {acc}\")\n",
    "\n",
    "best_param = max(grid_params, key = lambda x: x[1])[0]\n",
    "print(\"The maximum accuracy is reached with n_trees = \", best_param)"
   ]
  },
  {
   "cell_type": "markdown",
   "metadata": {
    "id": "FhERda2LFIrc"
   },
   "source": [
    "#### Predicting on the test set"
   ]
  },
  {
   "cell_type": "code",
   "execution_count": 37,
   "metadata": {
    "colab": {
     "base_uri": "https://localhost:8080/",
     "height": 297
    },
    "executionInfo": {
     "elapsed": 48676,
     "status": "ok",
     "timestamp": 1666447288251,
     "user": {
      "displayName": "Alessandro Cortese",
      "userId": "14647393946910041170"
     },
     "user_tz": -120
    },
    "id": "8T4nMmRsFIrc",
    "outputId": "9e6e8c48-a288-4fe9-acc2-f8820296743b"
   },
   "outputs": [
    {
     "name": "stdout",
     "output_type": "stream",
     "text": [
      "Accuracy:  0.5874840357598978\n"
     ]
    },
    {
     "data": {
      "image/png": "[encoded data removed]",
      "text/plain": [
       "<Figure size 432x288 with 2 Axes>"
      ]
     },
     "metadata": {
      "needs_background": "light"
     },
     "output_type": "display_data"
    }
   ],
   "source": [
    "rfc = RandomForestClassifier(n_estimators = best_param, random_state = 16)\n",
    "rfc.fit(X_train_tfidf, y_train)\n",
    "y_pred_tfidf = rfc.predict(X_test_tfidf)\n",
    "\n",
    "# Test accuracy\n",
    "print(\"Accuracy: \", accuracy_score(y_test, y_pred_tfidf))\n",
    "\n",
    "conf_mat = ConfusionMatrixDisplay(confusion_matrix(y_test, y_pred_tfidf))\n",
    "conf_mat.plot()\n",
    "plt.show()"
   ]
  },
  {
   "cell_type": "markdown",
   "metadata": {
    "id": "dt753m06FIrd"
   },
   "source": [
    "#### Feature importance"
   ]
  },
  {
   "cell_type": "code",
   "execution_count": 38,
   "metadata": {
    "colab": {
     "base_uri": "https://localhost:8080/",
     "height": 265
    },
    "executionInfo": {
     "elapsed": 21,
     "status": "ok",
     "timestamp": 1666447288254,
     "user": {
      "displayName": "Alessandro Cortese",
      "userId": "14647393946910041170"
     },
     "user_tz": -120
    },
    "id": "73iDz500FIrd",
    "outputId": "fae1736b-36d8-4ecb-fab4-534a89bb4650"
   },
   "outputs": [
    {
     "data": {
      "image/png": "[encoded data removed]",
      "text/plain": [
       "<Figure size 432x288 with 1 Axes>"
      ]
     },
     "metadata": {
      "needs_background": "light"
     },
     "output_type": "display_data"
    }
   ],
   "source": [
    "zipped_list = zip(sorted_feat_vocab, rfc.feature_importances_)\n",
    "\n",
    "importances = sorted(zipped_list, key = lambda k:k[1], reverse = True) # we sort the coefficients from highest to lowest\n",
    "coeffs = list(zip(*importances))[1]\n",
    "names = list(zip(*importances))[0]\n",
    "    \n",
    "f_importances(coeffs, names, k = 15) "
   ]
  },
  {
   "cell_type": "markdown",
   "metadata": {
    "id": "DqFvS4LGPPNI"
   },
   "source": [
    "## 2.3 Using a tf-idf document-term matrix with trigrams"
   ]
  },
  {
   "cell_type": "code",
   "execution_count": 26,
   "metadata": {
    "colab": {
     "base_uri": "https://localhost:8080/"
    },
    "executionInfo": {
     "elapsed": 340,
     "status": "ok",
     "timestamp": 1666447288578,
     "user": {
      "displayName": "Alessandro Cortese",
      "userId": "14647393946910041170"
     },
     "user_tz": -120
    },
    "id": "k8hzYJA31h2u",
    "outputId": "84c29247-97ff-4342-dc6d-fabb6d71ce93"
   },
   "outputs": [
    {
     "name": "stdout",
     "output_type": "stream",
     "text": [
      "(7993, 495)\n"
     ]
    }
   ],
   "source": [
    "# Creating tf-idf feature matrix with trigrams\n",
    "TfV = TfidfVectorizer(ngram_range = (3,3), min_df = 3)\n",
    "X = TfV.fit_transform(stemmed_corpus_list)\n",
    "tfidf_matrix = pd.DataFrame(X.toarray())\n",
    "\n",
    "print(tfidf_matrix.shape)"
   ]
  },
  {
   "cell_type": "code",
   "execution_count": 27,
   "metadata": {
    "id": "DBJYHZu92YkC"
   },
   "outputs": [],
   "source": [
    "# Train-valid-test split\n",
    "X_train_tfidf = X.toarray()[:df_train.shape[0]]\n",
    "X_valid_tfidf = X.toarray()[df_train.shape[0]:-df_test.shape[0]]\n",
    "X_test_tfidf = X.toarray()[-df_test.shape[0]:]"
   ]
  },
  {
   "cell_type": "markdown",
   "metadata": {
    "id": "i3NeZsKWFzS_"
   },
   "source": [
    "### 2.3.1 Support Vector Machine with linear kernel"
   ]
  },
  {
   "cell_type": "markdown",
   "metadata": {
    "id": "3MvChpVzFzTA"
   },
   "source": [
    "#### Hyperparameter tuning"
   ]
  },
  {
   "cell_type": "code",
   "execution_count": 41,
   "metadata": {
    "colab": {
     "base_uri": "https://localhost:8080/"
    },
    "executionInfo": {
     "elapsed": 58860,
     "status": "ok",
     "timestamp": 1666447347435,
     "user": {
      "displayName": "Alessandro Cortese",
      "userId": "14647393946910041170"
     },
     "user_tz": -120
    },
    "id": "v2Mxmv5UFzTB",
    "outputId": "30cf1e26-206b-4d18-a042-7b5b1b94fd21"
   },
   "outputs": [
    {
     "name": "stdout",
     "output_type": "stream",
     "text": [
      "ACCURACY SCORE with C = 0.001 is: 0.5277078085642317\n",
      "ACCURACY SCORE with C = 0.01 is: 0.5277078085642317\n",
      "ACCURACY SCORE with C = 0.1 is: 0.5415617128463476\n",
      "ACCURACY SCORE with C = 1 is: 0.5642317380352645\n",
      "ACCURACY SCORE with C = 10 is: 0.5604534005037783\n",
      "ACCURACY SCORE with C = 100 is: 0.5591939546599496\n",
      "The maximum accuracy is reached with C =  1\n"
     ]
    }
   ],
   "source": [
    "# Hyperparameter tuning of the cost parameter with validation set approach and grid search.\n",
    "grid_params = []\n",
    "for cost in [0.001, 0.01, 0.1, 1, 10, 100]:\n",
    "    svm = SVC(kernel='linear', C = cost)\n",
    "    svm.fit(X_train_tfidf, y_train)\n",
    "    y_pred_tfidf_valid = svm.predict(X_valid_tfidf)\n",
    "    acc = accuracy_score(y_valid, y_pred_tfidf_valid)\n",
    "    grid_params.append((cost, acc))\n",
    "    print(f\"ACCURACY SCORE with C = {cost} is: {acc}\")\n",
    "\n",
    "best_param = max(grid_params, key = lambda x: x[1])[0]\n",
    "print(\"The maximum accuracy is reached with C = \", best_param)"
   ]
  },
  {
   "cell_type": "markdown",
   "metadata": {
    "id": "8EQinLZJFzTB"
   },
   "source": [
    "#### Predicting on the test set"
   ]
  },
  {
   "cell_type": "code",
   "execution_count": 42,
   "metadata": {
    "colab": {
     "base_uri": "https://localhost:8080/",
     "height": 297
    },
    "executionInfo": {
     "elapsed": 9909,
     "status": "ok",
     "timestamp": 1666447357339,
     "user": {
      "displayName": "Alessandro Cortese",
      "userId": "14647393946910041170"
     },
     "user_tz": -120
    },
    "id": "DABQ_g36FzTC",
    "outputId": "8069a9ee-3001-4e1b-c1a5-de3cab9acd67"
   },
   "outputs": [
    {
     "name": "stdout",
     "output_type": "stream",
     "text": [
      "Accuracy:  0.5925925925925926\n"
     ]
    },
    {
     "data": {
      "image/png": "[encoded data removed]",
      "text/plain": [
       "<Figure size 432x288 with 2 Axes>"
      ]
     },
     "metadata": {
      "needs_background": "light"
     },
     "output_type": "display_data"
    }
   ],
   "source": [
    "svm = SVC(kernel='linear', C = best_param) # we select the best cost parameter according to our grid search above\n",
    "svm.fit(X_train_tfidf, y_train)\n",
    "y_pred_tfidf = svm.predict(X_test_tfidf)\n",
    "\n",
    "# Test accuracy\n",
    "print(\"Accuracy: \", accuracy_score(y_test, y_pred_tfidf))\n",
    "\n",
    "conf_mat = ConfusionMatrixDisplay(confusion_matrix(y_test, y_pred_tfidf))\n",
    "conf_mat.plot()\n",
    "plt.show()"
   ]
  },
  {
   "cell_type": "markdown",
   "metadata": {
    "id": "rXsIfxP9FzTC"
   },
   "source": [
    "#### Feature importance\n",
    "\n"
   ]
  },
  {
   "cell_type": "code",
   "execution_count": 43,
   "metadata": {
    "colab": {
     "base_uri": "https://localhost:8080/",
     "height": 265
    },
    "executionInfo": {
     "elapsed": 19,
     "status": "ok",
     "timestamp": 1666447357340,
     "user": {
      "displayName": "Alessandro Cortese",
      "userId": "14647393946910041170"
     },
     "user_tz": -120
    },
    "id": "Kb0FPjhJFzTE",
    "outputId": "f8099afa-72f7-460e-ce8d-bdde6727005d"
   },
   "outputs": [
    {
     "data": {
      "image/png": "[encoded data removed]",
      "text/plain": [
       "<Figure size 432x288 with 1 Axes>"
      ]
     },
     "metadata": {
      "needs_background": "light"
     },
     "output_type": "display_data"
    }
   ],
   "source": [
    "# Feature importance: ranking the coefficients of the SVM model\n",
    "sorted_feat_vocab = sorted(TfV.vocabulary_.keys())\n",
    "coef_svm = list(enumerate(svm.coef_[0]))\n",
    "coef_svm = sorted(coef_svm, key = lambda k:k[1], reverse=True) # we sort the coefficients from highest to lowest\n",
    "feature_names = []\n",
    "\n",
    "for i,x in coef_svm:\n",
    "    feature_names.append(sorted_feat_vocab[i])\n",
    "coef_svm = [x[1] for x in coef_svm]\n",
    "\n",
    "f_importances(coef_svm, feature_names, 15)"
   ]
  },
  {
   "cell_type": "markdown",
   "metadata": {
    "id": "g8r8SXKlFzTF"
   },
   "source": [
    "### 2.3.2 Random Forest "
   ]
  },
  {
   "cell_type": "markdown",
   "metadata": {
    "id": "W3c89QJZFzTF"
   },
   "source": [
    "#### Hyperparameter tuning"
   ]
  },
  {
   "cell_type": "code",
   "execution_count": 44,
   "metadata": {
    "colab": {
     "base_uri": "https://localhost:8080/"
    },
    "executionInfo": {
     "elapsed": 202093,
     "status": "ok",
     "timestamp": 1666447559420,
     "user": {
      "displayName": "Alessandro Cortese",
      "userId": "14647393946910041170"
     },
     "user_tz": -120
    },
    "id": "_vVYZSoYFzTF",
    "outputId": "9fefa120-a212-4b7c-e303-c87102821cb4"
   },
   "outputs": [
    {
     "name": "stdout",
     "output_type": "stream",
     "text": [
      "ACCURACY SCORE with N_TREES = 50 is: 0.5591939546599496\n",
      "ACCURACY SCORE with N_TREES = 100 is: 0.5642317380352645\n",
      "ACCURACY SCORE with N_TREES = 200 is: 0.5654911838790933\n",
      "ACCURACY SCORE with N_TREES = 500 is: 0.5629722921914357\n",
      "ACCURACY SCORE with N_TREES = 1000 is: 0.5617128463476071\n",
      "The maximum accuracy is reached with n_trees =  200\n"
     ]
    }
   ],
   "source": [
    "# Hyperparameter tuning\n",
    "grid_params = []\n",
    "for n_trees in [50, 100, 200, 500, 1000]:\n",
    "        rfc = RandomForestClassifier(n_estimators = n_trees, random_state = 16)\n",
    "        rfc.fit(X_train_tfidf, y_train)\n",
    "        y_pred_tfidf_valid = rfc.predict(X_valid_tfidf)\n",
    "        acc = accuracy_score(y_valid, y_pred_tfidf_valid)\n",
    "        grid_params.append((n_trees, acc))\n",
    "        print(f\"ACCURACY SCORE with N_TREES = {n_trees} is: {acc}\")\n",
    "\n",
    "best_param = max(grid_params, key = lambda x: x[1])[0]\n",
    "print(\"The maximum accuracy is reached with n_trees = \", best_param)"
   ]
  },
  {
   "cell_type": "markdown",
   "metadata": {
    "id": "0GNgrt_WFzTG"
   },
   "source": [
    "#### Predicting on the test set"
   ]
  },
  {
   "cell_type": "code",
   "execution_count": 45,
   "metadata": {
    "colab": {
     "base_uri": "https://localhost:8080/",
     "height": 297
    },
    "executionInfo": {
     "elapsed": 22989,
     "status": "ok",
     "timestamp": 1666447582403,
     "user": {
      "displayName": "Alessandro Cortese",
      "userId": "14647393946910041170"
     },
     "user_tz": -120
    },
    "id": "BXqHX6RxFzTG",
    "outputId": "a9b629f3-eda2-4f40-b4f5-49262b7fee52"
   },
   "outputs": [
    {
     "name": "stdout",
     "output_type": "stream",
     "text": [
      "Accuracy:  0.5849297573435505\n"
     ]
    },
    {
     "data": {
      "image/png": "[encoded data removed]",
      "text/plain": [
       "<Figure size 432x288 with 2 Axes>"
      ]
     },
     "metadata": {
      "needs_background": "light"
     },
     "output_type": "display_data"
    }
   ],
   "source": [
    "rfc = RandomForestClassifier(n_estimators = best_param, random_state = 16)\n",
    "rfc.fit(X_train_tfidf, y_train)\n",
    "y_pred_tfidf = rfc.predict(X_test_tfidf)\n",
    "\n",
    "# Test accuracy\n",
    "print(\"Accuracy: \", accuracy_score(y_test, y_pred_tfidf))\n",
    "\n",
    "conf_mat = ConfusionMatrixDisplay(confusion_matrix(y_test, y_pred_tfidf))\n",
    "conf_mat.plot()\n",
    "plt.show()"
   ]
  },
  {
   "cell_type": "markdown",
   "metadata": {
    "id": "MGL7YZpeFzTH"
   },
   "source": [
    "#### Feature importance"
   ]
  },
  {
   "cell_type": "code",
   "execution_count": 46,
   "metadata": {
    "colab": {
     "base_uri": "https://localhost:8080/",
     "height": 265
    },
    "executionInfo": {
     "elapsed": 391,
     "status": "ok",
     "timestamp": 1666447582783,
     "user": {
      "displayName": "Alessandro Cortese",
      "userId": "14647393946910041170"
     },
     "user_tz": -120
    },
    "id": "SLQr1I6-FzTH",
    "outputId": "ed0c5b6e-625a-4787-d585-771c0d296d86"
   },
   "outputs": [
    {
     "data": {
      "image/png": "[encoded data removed]",
      "text/plain": [
       "<Figure size 432x288 with 1 Axes>"
      ]
     },
     "metadata": {
      "needs_background": "light"
     },
     "output_type": "display_data"
    }
   ],
   "source": [
    "zipped_list = zip(sorted_feat_vocab, rfc.feature_importances_)\n",
    "\n",
    "importances = sorted(zipped_list, key = lambda k:k[1], reverse = True) # we sort the coefficients from highest to lowest\n",
    "coeffs = list(zip(*importances))[1]\n",
    "names = list(zip(*importances))[0]\n",
    "    \n",
    "f_importances(coeffs, names, k = 15) "
   ]
  },
  {
   "cell_type": "markdown",
   "metadata": {
    "id": "wUh4ciYOC47-"
   },
   "source": [
    "## 2.4 Using a tf-idf document-term matrix with mixed unigrams and bigrams"
   ]
  },
  {
   "cell_type": "code",
   "execution_count": 28,
   "metadata": {
    "colab": {
     "base_uri": "https://localhost:8080/"
    },
    "executionInfo": {
     "elapsed": 520,
     "status": "ok",
     "timestamp": 1666447583297,
     "user": {
      "displayName": "Alessandro Cortese",
      "userId": "14647393946910041170"
     },
     "user_tz": -120
    },
    "id": "Epii-8qSC48A",
    "outputId": "14d3a5ef-b331-462d-d5fa-2b588ce14ecc"
   },
   "outputs": [
    {
     "name": "stdout",
     "output_type": "stream",
     "text": [
      "(7993, 5663)\n"
     ]
    }
   ],
   "source": [
    "# Creating a tf-idf feature matrix with both unigrams and bigrams\n",
    "TfV = TfidfVectorizer(ngram_range = (1,2), min_df = 3)\n",
    "X = TfV.fit_transform(stemmed_corpus_list)\n",
    "tfidf_matrix = pd.DataFrame(X.toarray())\n",
    "\n",
    "print(tfidf_matrix.shape)"
   ]
  },
  {
   "cell_type": "code",
   "execution_count": 29,
   "metadata": {
    "id": "ljebgpmNC48B"
   },
   "outputs": [],
   "source": [
    "# Train-valid-test split\n",
    "X_train_tfidf = X.toarray()[:df_train.shape[0]]\n",
    "X_valid_tfidf = X.toarray()[df_train.shape[0]:-df_test.shape[0]]\n",
    "X_test_tfidf = X.toarray()[-df_test.shape[0]:]"
   ]
  },
  {
   "cell_type": "markdown",
   "metadata": {
    "id": "OL-s46ssGtt0"
   },
   "source": [
    "### 2.4.1 Support Vector Machine with linear kernel"
   ]
  },
  {
   "cell_type": "markdown",
   "metadata": {
    "id": "b6S_YJZpGtt1"
   },
   "source": [
    "#### Hyperparameter tuning"
   ]
  },
  {
   "cell_type": "code",
   "execution_count": 49,
   "metadata": {
    "colab": {
     "base_uri": "https://localhost:8080/"
    },
    "executionInfo": {
     "elapsed": 679274,
     "status": "ok",
     "timestamp": 1666448263415,
     "user": {
      "displayName": "Alessandro Cortese",
      "userId": "14647393946910041170"
     },
     "user_tz": -120
    },
    "id": "VdVrRRcBGtt2",
    "outputId": "ed5effb0-5167-4190-c336-f4eeeb49e2f5"
   },
   "outputs": [
    {
     "name": "stdout",
     "output_type": "stream",
     "text": [
      "ACCURACY SCORE with C = 0.001 is: 0.5277078085642317\n",
      "ACCURACY SCORE with C = 0.01 is: 0.5277078085642317\n",
      "ACCURACY SCORE with C = 0.1 is: 0.5566750629722922\n",
      "ACCURACY SCORE with C = 1 is: 0.6448362720403022\n",
      "ACCURACY SCORE with C = 10 is: 0.6158690176322418\n",
      "ACCURACY SCORE with C = 100 is: 0.5906801007556675\n",
      "ACCURACY SCORE with C = 1000 is: 0.5894206549118388\n",
      "The maximum accuracy is reached with C =  1\n"
     ]
    }
   ],
   "source": [
    "# Hyperparameter tuning of the cost parameter with validation set approach and grid search.\n",
    "grid_params = []\n",
    "for cost in [0.001, 0.01, 0.1, 1, 10, 100, 1000]:\n",
    "    svm = SVC(kernel='linear', C = cost)\n",
    "    svm.fit(X_train_tfidf, y_train)\n",
    "    y_pred_tfidf_valid = svm.predict(X_valid_tfidf)\n",
    "    acc = accuracy_score(y_valid, y_pred_tfidf_valid)\n",
    "    grid_params.append((cost, acc))\n",
    "    print(f\"ACCURACY SCORE with C = {cost} is: {acc}\")\n",
    "\n",
    "best_param = max(grid_params, key = lambda x: x[1])[0]\n",
    "print(\"The maximum accuracy is reached with C = \", best_param)"
   ]
  },
  {
   "cell_type": "markdown",
   "metadata": {
    "id": "Rc9uTCoDGtt3"
   },
   "source": [
    "#### Predicting on the test set"
   ]
  },
  {
   "cell_type": "code",
   "execution_count": 50,
   "metadata": {
    "colab": {
     "base_uri": "https://localhost:8080/",
     "height": 297
    },
    "executionInfo": {
     "elapsed": 103950,
     "status": "ok",
     "timestamp": 1666448367356,
     "user": {
      "displayName": "Alessandro Cortese",
      "userId": "14647393946910041170"
     },
     "user_tz": -120
    },
    "id": "9O5hQeiLGtt3",
    "outputId": "c492e6a2-e2fc-49a2-b598-61ab0bd9cec7"
   },
   "outputs": [
    {
     "name": "stdout",
     "output_type": "stream",
     "text": [
      "Accuracy:  0.6245210727969349\n"
     ]
    },
    {
     "data": {
      "image/png": "[encoded data removed]",
      "text/plain": [
       "<Figure size 432x288 with 2 Axes>"
      ]
     },
     "metadata": {
      "needs_background": "light"
     },
     "output_type": "display_data"
    }
   ],
   "source": [
    "svm = SVC(kernel='linear', C = best_param) # we select the best cost parameter according to our grid search above\n",
    "svm.fit(X_train_tfidf, y_train)\n",
    "y_pred_tfidf = svm.predict(X_test_tfidf)\n",
    "\n",
    "# Test accuracy\n",
    "print(\"Accuracy: \", accuracy_score(y_test, y_pred_tfidf))\n",
    "\n",
    "conf_mat = ConfusionMatrixDisplay(confusion_matrix(y_test, y_pred_tfidf))\n",
    "conf_mat.plot()\n",
    "plt.show()"
   ]
  },
  {
   "cell_type": "markdown",
   "metadata": {
    "id": "kh0pEnlKGtt4"
   },
   "source": [
    "#### Feature importance\n",
    "\n"
   ]
  },
  {
   "cell_type": "code",
   "execution_count": 149,
   "metadata": {
    "id": "4WjcNe_zGtt5"
   },
   "outputs": [],
   "source": []
  },
  {
   "cell_type": "code",
   "execution_count": 51,
   "metadata": {
    "colab": {
     "base_uri": "https://localhost:8080/",
     "height": 265
    },
    "executionInfo": {
     "elapsed": 28,
     "status": "ok",
     "timestamp": 1666448367360,
     "user": {
      "displayName": "Alessandro Cortese",
      "userId": "14647393946910041170"
     },
     "user_tz": -120
    },
    "id": "Il-SplJrGtt5",
    "outputId": "d3387610-ecf3-4e3b-87f2-f21d44ba873e"
   },
   "outputs": [
    {
     "data": {
      "image/png": "[encoded data removed]",
      "text/plain": [
       "<Figure size 432x288 with 1 Axes>"
      ]
     },
     "metadata": {
      "needs_background": "light"
     },
     "output_type": "display_data"
    }
   ],
   "source": [
    "# Feature importance: ranking the coefficients of the SVM model\n",
    "sorted_feat_vocab = sorted(TfV.vocabulary_.keys())\n",
    "coef_svm = list(enumerate(svm.coef_[0]))\n",
    "coef_svm = sorted(coef_svm, key = lambda k:k[1], reverse=True) # we sort the coefficients from highest to lowest\n",
    "feature_names = []\n",
    "\n",
    "for i,x in coef_svm:\n",
    "    feature_names.append(sorted_feat_vocab[i])\n",
    "coef_svm = [x[1] for x in coef_svm]\n",
    "\n",
    "f_importances(coef_svm, feature_names, 15)"
   ]
  },
  {
   "cell_type": "markdown",
   "metadata": {
    "id": "GxVIXNaxGtt6"
   },
   "source": [
    "### 2.4.2 Random Forest "
   ]
  },
  {
   "cell_type": "markdown",
   "metadata": {
    "id": "bLz1pFwcGtt7"
   },
   "source": [
    "#### Hyperparameter tuning"
   ]
  },
  {
   "cell_type": "code",
   "execution_count": 52,
   "metadata": {
    "colab": {
     "base_uri": "https://localhost:8080/"
    },
    "executionInfo": {
     "elapsed": 587784,
     "status": "ok",
     "timestamp": 1666448955121,
     "user": {
      "displayName": "Alessandro Cortese",
      "userId": "14647393946910041170"
     },
     "user_tz": -120
    },
    "id": "iHgWtU4QGtt7",
    "outputId": "3b51cd88-82e6-42cf-e461-822456a8240d"
   },
   "outputs": [
    {
     "name": "stdout",
     "output_type": "stream",
     "text": [
      "ACCURACY SCORE with N_TREES = 50 is: 0.6322418136020151\n",
      "ACCURACY SCORE with N_TREES = 100 is: 0.628463476070529\n",
      "ACCURACY SCORE with N_TREES = 200 is: 0.628463476070529\n",
      "ACCURACY SCORE with N_TREES = 500 is: 0.6322418136020151\n",
      "ACCURACY SCORE with N_TREES = 1000 is: 0.6196473551637279\n",
      "The maximum accuracy is reached with n_trees =  50\n"
     ]
    }
   ],
   "source": [
    "# Hyperparameter tuning \n",
    "grid_params = []\n",
    "for n_trees in [50, 100, 200, 500, 1000]:\n",
    "        rfc = RandomForestClassifier(n_estimators = n_trees, random_state = 16)\n",
    "        rfc.fit(X_train_tfidf, y_train)\n",
    "        y_pred_tfidf_valid = rfc.predict(X_valid_tfidf)\n",
    "        acc = accuracy_score(y_valid, y_pred_tfidf_valid)\n",
    "        grid_params.append((n_trees, acc))\n",
    "        print(f\"ACCURACY SCORE with N_TREES = {n_trees} is: {acc}\")\n",
    "\n",
    "best_param = max(grid_params, key = lambda x: x[1])[0]\n",
    "print(\"The maximum accuracy is reached with n_trees = \", best_param)"
   ]
  },
  {
   "cell_type": "markdown",
   "metadata": {
    "id": "_lKUm6vrGtt8"
   },
   "source": [
    "#### Predicting on the test set"
   ]
  },
  {
   "cell_type": "code",
   "execution_count": 54,
   "metadata": {
    "colab": {
     "base_uri": "https://localhost:8080/",
     "height": 297
    },
    "executionInfo": {
     "elapsed": 15558,
     "status": "ok",
     "timestamp": 1666448970673,
     "user": {
      "displayName": "Alessandro Cortese",
      "userId": "14647393946910041170"
     },
     "user_tz": -120
    },
    "id": "nnoXw703Gtt8",
    "outputId": "7f9a9441-9916-4664-d2e3-2426bd481fe1"
   },
   "outputs": [
    {
     "name": "stdout",
     "output_type": "stream",
     "text": [
      "Accuracy:  0.6283524904214559\n"
     ]
    },
    {
     "data": {
      "image/png": "[encoded data removed]",
      "text/plain": [
       "<Figure size 432x288 with 2 Axes>"
      ]
     },
     "metadata": {
      "needs_background": "light"
     },
     "output_type": "display_data"
    }
   ],
   "source": [
    "rfc = RandomForestClassifier(n_estimators = best_param, random_state = 16)\n",
    "rfc.fit(X_train_tfidf, y_train)\n",
    "y_pred_tfidf = rfc.predict(X_test_tfidf)\n",
    "\n",
    "# Test accuracy\n",
    "print(\"Accuracy: \", accuracy_score(y_test, y_pred_tfidf))\n",
    "\n",
    "conf_mat = ConfusionMatrixDisplay(confusion_matrix(y_test, y_pred_tfidf))\n",
    "conf_mat.plot()\n",
    "plt.show()"
   ]
  },
  {
   "cell_type": "markdown",
   "metadata": {
    "id": "dEeq2TSdGtt9"
   },
   "source": [
    "#### Feature importance"
   ]
  },
  {
   "cell_type": "code",
   "execution_count": 55,
   "metadata": {
    "colab": {
     "base_uri": "https://localhost:8080/",
     "height": 265
    },
    "executionInfo": {
     "elapsed": 21,
     "status": "ok",
     "timestamp": 1666448970674,
     "user": {
      "displayName": "Alessandro Cortese",
      "userId": "14647393946910041170"
     },
     "user_tz": -120
    },
    "id": "ReALzek5Gtt9",
    "outputId": "0e81d643-a3bd-4ee1-a1f9-0ac052d9cb17"
   },
   "outputs": [
    {
     "data": {
      "image/png": "[encoded data removed]",
      "text/plain": [
       "<Figure size 432x288 with 1 Axes>"
      ]
     },
     "metadata": {
      "needs_background": "light"
     },
     "output_type": "display_data"
    }
   ],
   "source": [
    "zipped_list = zip(sorted_feat_vocab, rfc.feature_importances_)\n",
    "\n",
    "importances = sorted(zipped_list, key = lambda k:k[1], reverse = True) # we sort the coefficients from highest to lowest\n",
    "coeffs = list(zip(*importances))[1]\n",
    "names = list(zip(*importances))[0]\n",
    "    \n",
    "f_importances(coeffs, names, k = 15) "
   ]
  },
  {
   "cell_type": "markdown",
   "metadata": {
    "id": "YMj00nZ86vJM"
   },
   "source": []
  },
  {
   "cell_type": "markdown",
   "metadata": {},
   "source": [
    "## 2.5 Adding metadata to the previous best model trained on tf-idf (mixed unigrams and bigrams)"
   ]
  },
  {
   "cell_type": "markdown",
   "metadata": {},
   "source": [
    "First we need to do some cleaning and make some design choices.\n",
    "We can embed metadata to our models in two ways:\n",
    "- Concatenating the statement string with the context string and merge the feature vectors obtained in this way with the merged OneHotEncoded matrices of *subjects*, *states*, *party*\n",
    "- OneHotEncoding the context as well, creating a Random Projection of it to reduce the dimensionality. Then merging the matrix with that of the other metadata."
   ]
  },
  {
   "cell_type": "markdown",
   "metadata": {},
   "source": [
    "### 2.5.1 Metadata matrices preparation"
   ]
  },
  {
   "cell_type": "code",
   "execution_count": 30,
   "metadata": {
    "colab": {
     "base_uri": "https://localhost:8080/"
    },
    "executionInfo": {
     "elapsed": 19,
     "status": "ok",
     "timestamp": 1666514710517,
     "user": {
      "displayName": "Alessandro Cortese",
      "userId": "14647393946910041170"
     },
     "user_tz": -120
    },
    "id": "ZVh4byh2AnWr",
    "outputId": "04778367-d25e-41f7-ab62-d2fa94598672"
   },
   "outputs": [
    {
     "data": {
      "text/plain": [
       "array(['Texas', 'Illinois', '', 'Wisconsin', 'New Jersey',\n",
       "       'Massachusetts', 'Washington, D.C.', 'Oregon', 'New York',\n",
       "       'California', 'Missouri', 'West Virginia', 'Florida', 'Arkansas',\n",
       "       'New Hampshire', 'Ohio', 'Virginia', 'Arizona', 'Wyoming',\n",
       "       'Rhode Island', 'Maryland', 'Georgia', 'Kentucky', 'Delaware',\n",
       "       'Kansas', 'ohio', 'Colorado', 'New Mexico', 'Vermont', 'Alaska',\n",
       "       'South Carolina', 'Iowa', 'Minnesota', 'Connecticut', 'Indiana',\n",
       "       'Pennsylvania', 'North Carolina', 'Tennessee', 'Oklahoma',\n",
       "       'Nevada', 'Virgina', 'None', 'Alabama', 'Russia', 'Louisiana',\n",
       "       'District of Columbia', 'Nebraska', 'Michigan', 'Utah',\n",
       "       'Mississippi', 'Rhode island', 'United Kingdom', 'Washington',\n",
       "       'Montana', 'North Dakota', 'Maine', 'South Dakota', 'Virgiia',\n",
       "       'Atlanta', 'Washington DC', 'Washington D.C.', 'PA - Pennsylvania',\n",
       "       'Tex', 'Idaho', 'Washington state'], dtype=object)"
      ]
     },
     "execution_count": 30,
     "metadata": {},
     "output_type": "execute_result"
    }
   ],
   "source": [
    "# Finding unique states\n",
    "df_tot[\"state_info\"] = df_tot[\"state_info\"].str.rstrip()\n",
    "pd.unique(df_tot[\"state_info\"])"
   ]
  },
  {
   "cell_type": "code",
   "execution_count": 31,
   "metadata": {
    "executionInfo": {
     "elapsed": 295,
     "status": "ok",
     "timestamp": 1666514715242,
     "user": {
      "displayName": "Alessandro Cortese",
      "userId": "14647393946910041170"
     },
     "user_tz": -120
    },
    "id": "cCEKP3CI9FYu"
   },
   "outputs": [],
   "source": [
    "# Cleaning the state_info column\n",
    "state_dictionary = {\n",
    "    \"\": \"Unknown\",\n",
    "    \"ohio\" : \"Ohio\",\n",
    "    \"None\" : \"Unknown\",\n",
    "    \"Washington state\" : \"Washington\",\n",
    "    \"District of Columbia\" : \"Washington, D.C.\",\n",
    "    \"Virginia director, Coalition to Stop Gun Violence\" : \"Virginia\",\n",
    "    \"Virgiia\" : \"Virginia\",\n",
    "    \"Atlanta\" : \"Georgia\",\n",
    "    \"Washington DC\" : \"Washington, D.C.\",\n",
    "    \"PA - Pennsylvania\" : \"Pennsylvania\",\n",
    "    \"Tex\" : \"Texas\",\n",
    "    \"the United States\" : \"USA\",\n",
    "    pd.NA: \"Unknown\"\n",
    "}\n",
    "\n",
    "df_tot[\"state_info\"].replace(state_dictionary, inplace = True)"
   ]
  },
  {
   "cell_type": "code",
   "execution_count": 33,
   "metadata": {
    "colab": {
     "base_uri": "https://localhost:8080/"
    },
    "executionInfo": {
     "elapsed": 252,
     "status": "ok",
     "timestamp": 1666514733534,
     "user": {
      "displayName": "Alessandro Cortese",
      "userId": "14647393946910041170"
     },
     "user_tz": -120
    },
    "id": "yiMQDAelBKD2",
    "outputId": "903a299d-ecaf-4946-9acf-1e6d83df3587"
   },
   "outputs": [
    {
     "data": {
      "text/plain": [
       "56"
      ]
     },
     "execution_count": 33,
     "metadata": {},
     "output_type": "execute_result"
    }
   ],
   "source": [
    "# Total number of unique states\n",
    "len(pd.unique(df_tot[\"state_info\"]))"
   ]
  },
  {
   "cell_type": "code",
   "execution_count": 34,
   "metadata": {
    "colab": {
     "base_uri": "https://localhost:8080/"
    },
    "executionInfo": {
     "elapsed": 617,
     "status": "ok",
     "timestamp": 1666352771383,
     "user": {
      "displayName": "Alessandro Cortese",
      "userId": "14647393946910041170"
     },
     "user_tz": -120
    },
    "id": "RJ2LL7NXCayU",
    "outputId": "0a16db54-b339-4b40-9b94-965bc70b2ed7"
   },
   "outputs": [
    {
     "data": {
      "text/plain": [
       "array(['republican', 'democrat', 'none', 'activist', 'talk-show-host',\n",
       "       'columnist', 'libertarian', 'independent', 'newsmaker',\n",
       "       'organization', 'state-official', 'labor-leader', 'journalist',\n",
       "       'business-leader', 'education-official', 'tea-party-member',\n",
       "       'green', 'liberal-party-canada', 'government-body', 'Moderate',\n",
       "       'constitution-party', 'county-commissioner'], dtype=object)"
      ]
     },
     "execution_count": 34,
     "metadata": {},
     "output_type": "execute_result"
    }
   ],
   "source": [
    "# Finding unique party affiliations\n",
    "pd.unique(df_tot[\"party_affiliation\"])"
   ]
  },
  {
   "cell_type": "code",
   "execution_count": 35,
   "metadata": {
    "colab": {
     "base_uri": "https://localhost:8080/"
    },
    "executionInfo": {
     "elapsed": 15,
     "status": "ok",
     "timestamp": 1666352772191,
     "user": {
      "displayName": "Alessandro Cortese",
      "userId": "14647393946910041170"
     },
     "user_tz": -120
    },
    "id": "0YSG4NKMCjCS",
    "outputId": "caf51017-36da-4e3a-b455-8208a8450137"
   },
   "outputs": [
    {
     "name": "stderr",
     "output_type": "stream",
     "text": [
      "<ipython-input-35-83d76e2241df>:2: SettingWithCopyWarning: \n",
      "A value is trying to be set on a copy of a slice from a DataFrame\n",
      "\n",
      "See the caveats in the documentation: https://pandas.pydata.org/pandas-docs/stable/user_guide/indexing.html#returning-a-view-versus-a-copy\n",
      "  df_tot[\"party_affiliation\"][(df_tot[\"party_affiliation\"] != \"democrat\") & (df_tot[\"party_affiliation\"] != \"republican\") & (df_tot[\"party_affiliation\"] != \"none\")] = \"other\"\n"
     ]
    }
   ],
   "source": [
    "# Keeping only \"republican\", \"democrat\" and \"none\". Labeling the remaining with \"other\"\n",
    "df_tot[\"party_affiliation\"][(df_tot[\"party_affiliation\"] != \"democrat\") & (df_tot[\"party_affiliation\"] != \"republican\") & (df_tot[\"party_affiliation\"] != \"none\")] = \"other\""
   ]
  },
  {
   "cell_type": "code",
   "execution_count": 36,
   "metadata": {
    "colab": {
     "base_uri": "https://localhost:8080/",
     "height": 337
    },
    "executionInfo": {
     "elapsed": 413,
     "status": "ok",
     "timestamp": 1666352774082,
     "user": {
      "displayName": "Alessandro Cortese",
      "userId": "14647393946910041170"
     },
     "user_tz": -120
    },
    "id": "GBNj6ctTE5qS",
    "outputId": "c5c07258-7e2e-4d03-cf01-0422930a7068"
   },
   "outputs": [
    {
     "data": {
      "text/html": [
       "<div>\n",
       "<style scoped>\n",
       "    .dataframe tbody tr th:only-of-type {\n",
       "        vertical-align: middle;\n",
       "    }\n",
       "\n",
       "    .dataframe tbody tr th {\n",
       "        vertical-align: top;\n",
       "    }\n",
       "\n",
       "    .dataframe thead th {\n",
       "        text-align: right;\n",
       "    }\n",
       "</style>\n",
       "<table border=\"1\" class=\"dataframe\">\n",
       "  <thead>\n",
       "    <tr style=\"text-align: right;\">\n",
       "      <th></th>\n",
       "      <th>id</th>\n",
       "      <th>label</th>\n",
       "      <th>statement</th>\n",
       "      <th>subjects</th>\n",
       "      <th>state_info</th>\n",
       "      <th>party_affiliation</th>\n",
       "      <th>context</th>\n",
       "    </tr>\n",
       "  </thead>\n",
       "  <tbody>\n",
       "    <tr>\n",
       "      <th>0</th>\n",
       "      <td>2635.json</td>\n",
       "      <td>0</td>\n",
       "      <td>Says the Annies List political group supports ...</td>\n",
       "      <td>abortion</td>\n",
       "      <td>Texas</td>\n",
       "      <td>republican</td>\n",
       "      <td>a mailer</td>\n",
       "    </tr>\n",
       "    <tr>\n",
       "      <th>1</th>\n",
       "      <td>324.json</td>\n",
       "      <td>1</td>\n",
       "      <td>Hillary Clinton agrees with John McCain \"by vo...</td>\n",
       "      <td>foreign-policy</td>\n",
       "      <td>Illinois</td>\n",
       "      <td>democrat</td>\n",
       "      <td>Denver</td>\n",
       "    </tr>\n",
       "    <tr>\n",
       "      <th>2</th>\n",
       "      <td>1123.json</td>\n",
       "      <td>0</td>\n",
       "      <td>Health care reform legislation is likely to ma...</td>\n",
       "      <td>health-care</td>\n",
       "      <td>Unknown</td>\n",
       "      <td>none</td>\n",
       "      <td>a news release</td>\n",
       "    </tr>\n",
       "    <tr>\n",
       "      <th>3</th>\n",
       "      <td>12465.json</td>\n",
       "      <td>1</td>\n",
       "      <td>The Chicago Bears have had more starting quart...</td>\n",
       "      <td>education</td>\n",
       "      <td>Wisconsin</td>\n",
       "      <td>republican</td>\n",
       "      <td>a an online opinion-piece</td>\n",
       "    </tr>\n",
       "    <tr>\n",
       "      <th>4</th>\n",
       "      <td>9741.json</td>\n",
       "      <td>1</td>\n",
       "      <td>Says GOP primary opponents Glenn Grothman and ...</td>\n",
       "      <td>energy,message-machine-2014,voting-record</td>\n",
       "      <td>Wisconsin</td>\n",
       "      <td>republican</td>\n",
       "      <td>an online video</td>\n",
       "    </tr>\n",
       "  </tbody>\n",
       "</table>\n",
       "</div>"
      ],
      "text/plain": [
       "           id  label                                          statement  \\\n",
       "0   2635.json      0  Says the Annies List political group supports ...   \n",
       "1    324.json      1  Hillary Clinton agrees with John McCain \"by vo...   \n",
       "2   1123.json      0  Health care reform legislation is likely to ma...   \n",
       "3  12465.json      1  The Chicago Bears have had more starting quart...   \n",
       "4   9741.json      1  Says GOP primary opponents Glenn Grothman and ...   \n",
       "\n",
       "                                    subjects state_info party_affiliation  \\\n",
       "0                                   abortion      Texas        republican   \n",
       "1                             foreign-policy   Illinois          democrat   \n",
       "2                                health-care    Unknown              none   \n",
       "3                                  education  Wisconsin        republican   \n",
       "4  energy,message-machine-2014,voting-record  Wisconsin        republican   \n",
       "\n",
       "                     context  \n",
       "0                   a mailer  \n",
       "1                     Denver  \n",
       "2             a news release  \n",
       "3  a an online opinion-piece  \n",
       "4            an online video  "
      ]
     },
     "execution_count": 36,
     "metadata": {},
     "output_type": "execute_result"
    }
   ],
   "source": [
    "df_tot.head()"
   ]
  },
  {
   "cell_type": "code",
   "execution_count": 37,
   "metadata": {
    "colab": {
     "base_uri": "https://localhost:8080/"
    },
    "executionInfo": {
     "elapsed": 16,
     "status": "ok",
     "timestamp": 1666352775453,
     "user": {
      "displayName": "Alessandro Cortese",
      "userId": "14647393946910041170"
     },
     "user_tz": -120
    },
    "id": "OIa8DS-vH92_",
    "outputId": "5168e0fd-7876-4329-a066-568404dd74b5"
   },
   "outputs": [
    {
     "name": "stdout",
     "output_type": "stream",
     "text": [
      "142\n",
      "['10-news-tampa-bay', 'Alcohol', 'abc-news-week', 'abortion', 'afghanistan', 'after-the-fact', 'agriculture', 'animals', 'autism', 'bankruptcy', 'baseball', 'bipartisanship', 'bush-administration', 'campaign-advertising', 'campaign-finance', 'candidates-biography', 'cap-and-trade', 'census', 'children', 'china', 'city-budget', 'city-government', 'civil-rights', 'climate-change', 'colbert-report', 'congress', 'congressional-rules', 'consumer-safety', 'corporations', 'corrections-and-updates', 'county-budget', 'county-government', 'crime', 'criminal-justice', 'death-penalty', 'debates', 'debt', 'deficit', 'disability', 'diversity', 'drugs', 'ebola', 'economy', 'education', 'elections', 'energy', 'environment', 'ethics', 'fake-news', 'families', 'federal-budget', 'financial-regulation', 'florida', 'florida-amendments', 'food', 'food-safety', 'foreign-policy', 'gambling', 'gas-prices', 'gays-and-lesbians', 'government-efficiency', 'government-regulation', 'guns', 'health-care', 'history', 'homeland-security', 'housing', 'human-rights', 'hunger', 'immigration', 'income', 'infrastructure', 'iraq', 'islam', 'israel', 'job-accomplishments', 'jobs', 'kagan-nomination', 'labor', 'legal-issues', 'lottery', 'marijuana', 'market-regulation', 'marriage', 'medicaid', 'medicare', 'message-machine', 'message-machine-2012', 'message-machine-2014', 'military', 'natural-disasters', 'new-hampshire-2012', 'nightlife', 'nuclear', 'obama-birth-certificate', 'occupy-wall-street', 'oil-spill', 'patriotism', 'pensions', 'politifacts-top-promises', 'polls', 'pop-culture', 'population', 'poverty', 'privacy', 'public-health', 'public-safety', 'public-service', 'pundits', 'recreation', 'redistricting', 'religion', 'retirement', 'science', 'sexuality', 'small-business', 'social-security', 'sotomayor-nomination', 'space', 'sports', 'state-budget', 'state-finances', 'states', 'stimulus', 'supreme-court', 'taxes', 'technology', 'terrorism', 'tourism', 'trade', 'transparency', 'transportation', 'unions', 'urban', 'veterans', 'voting-record', 'water', 'wealth', 'weather', 'welfare', 'women', 'workers']\n"
     ]
    }
   ],
   "source": [
    "# Finding unique subjects, splitting the multiple ones\n",
    "unique_subjects = set()\n",
    "\n",
    "for sub in pd.unique(df_tot[\"subjects\"]):\n",
    "    sub = sub.split(\",\")\n",
    "    for s in sub:\n",
    "        unique_subjects.add(s)\n",
    "unique_subjects = sorted(unique_subjects)\n",
    "print(len(unique_subjects))\n",
    "print(unique_subjects)"
   ]
  },
  {
   "cell_type": "code",
   "execution_count": 38,
   "metadata": {
    "colab": {
     "base_uri": "https://localhost:8080/"
    },
    "executionInfo": {
     "elapsed": 2055,
     "status": "ok",
     "timestamp": 1666352778754,
     "user": {
      "displayName": "Alessandro Cortese",
      "userId": "14647393946910041170"
     },
     "user_tz": -120
    },
    "id": "v_vOrtdiKTcm",
    "outputId": "749133ad-6b53-45d6-a837-c13aad94cc41"
   },
   "outputs": [
    {
     "name": "stdout",
     "output_type": "stream",
     "text": [
      "[[0. 0. 0. ... 0. 0. 0.]\n",
      " [0. 0. 0. ... 0. 0. 0.]\n",
      " [0. 0. 0. ... 0. 0. 0.]\n",
      " ...\n",
      " [0. 0. 0. ... 0. 0. 0.]\n",
      " [0. 0. 0. ... 0. 0. 0.]\n",
      " [0. 0. 0. ... 0. 0. 0.]]\n"
     ]
    }
   ],
   "source": [
    "# Manually creating a OneHotEncoded matrix for subjects\n",
    "subjects_matrix = np.zeros((df_tot.shape[0],len(unique_subjects)))\n",
    "subjects_matrix.shape\n",
    "\n",
    "for i in range(df_tot.shape[0]):\n",
    "    tmp_list = df_tot.iloc[i][\"subjects\"].split(\",\")\n",
    "    for sub in tmp_list:\n",
    "        j = unique_subjects.index(sub)\n",
    "        subjects_matrix[i][j] = 1\n",
    "\n",
    "print(subjects_matrix)"
   ]
  },
  {
   "cell_type": "code",
   "execution_count": 39,
   "metadata": {
    "id": "rjDCes02LD_7"
   },
   "outputs": [
    {
     "data": {
      "text/html": [
       "<div>\n",
       "<style scoped>\n",
       "    .dataframe tbody tr th:only-of-type {\n",
       "        vertical-align: middle;\n",
       "    }\n",
       "\n",
       "    .dataframe tbody tr th {\n",
       "        vertical-align: top;\n",
       "    }\n",
       "\n",
       "    .dataframe thead th {\n",
       "        text-align: right;\n",
       "    }\n",
       "</style>\n",
       "<table border=\"1\" class=\"dataframe\">\n",
       "  <thead>\n",
       "    <tr style=\"text-align: right;\">\n",
       "      <th></th>\n",
       "      <th>id</th>\n",
       "      <th>label</th>\n",
       "      <th>statement</th>\n",
       "      <th>subjects</th>\n",
       "      <th>state_info</th>\n",
       "      <th>party_affiliation</th>\n",
       "      <th>context</th>\n",
       "      <th>statement_with_context</th>\n",
       "    </tr>\n",
       "  </thead>\n",
       "  <tbody>\n",
       "    <tr>\n",
       "      <th>0</th>\n",
       "      <td>2635.json</td>\n",
       "      <td>0</td>\n",
       "      <td>Says the Annies List political group supports ...</td>\n",
       "      <td>abortion</td>\n",
       "      <td>Texas</td>\n",
       "      <td>republican</td>\n",
       "      <td>a mailer</td>\n",
       "      <td>a mailer Says the Annies List political group ...</td>\n",
       "    </tr>\n",
       "    <tr>\n",
       "      <th>1</th>\n",
       "      <td>324.json</td>\n",
       "      <td>1</td>\n",
       "      <td>Hillary Clinton agrees with John McCain \"by vo...</td>\n",
       "      <td>foreign-policy</td>\n",
       "      <td>Illinois</td>\n",
       "      <td>democrat</td>\n",
       "      <td>Denver</td>\n",
       "      <td>Denver Hillary Clinton agrees with John McCain...</td>\n",
       "    </tr>\n",
       "    <tr>\n",
       "      <th>2</th>\n",
       "      <td>1123.json</td>\n",
       "      <td>0</td>\n",
       "      <td>Health care reform legislation is likely to ma...</td>\n",
       "      <td>health-care</td>\n",
       "      <td>Unknown</td>\n",
       "      <td>none</td>\n",
       "      <td>a news release</td>\n",
       "      <td>a news release Health care reform legislation ...</td>\n",
       "    </tr>\n",
       "    <tr>\n",
       "      <th>3</th>\n",
       "      <td>12465.json</td>\n",
       "      <td>1</td>\n",
       "      <td>The Chicago Bears have had more starting quart...</td>\n",
       "      <td>education</td>\n",
       "      <td>Wisconsin</td>\n",
       "      <td>republican</td>\n",
       "      <td>a an online opinion-piece</td>\n",
       "      <td>a an online opinion-piece The Chicago Bears ha...</td>\n",
       "    </tr>\n",
       "    <tr>\n",
       "      <th>4</th>\n",
       "      <td>9741.json</td>\n",
       "      <td>1</td>\n",
       "      <td>Says GOP primary opponents Glenn Grothman and ...</td>\n",
       "      <td>energy,message-machine-2014,voting-record</td>\n",
       "      <td>Wisconsin</td>\n",
       "      <td>republican</td>\n",
       "      <td>an online video</td>\n",
       "      <td>an online video Says GOP primary opponents Gle...</td>\n",
       "    </tr>\n",
       "  </tbody>\n",
       "</table>\n",
       "</div>"
      ],
      "text/plain": [
       "           id  label                                          statement  \\\n",
       "0   2635.json      0  Says the Annies List political group supports ...   \n",
       "1    324.json      1  Hillary Clinton agrees with John McCain \"by vo...   \n",
       "2   1123.json      0  Health care reform legislation is likely to ma...   \n",
       "3  12465.json      1  The Chicago Bears have had more starting quart...   \n",
       "4   9741.json      1  Says GOP primary opponents Glenn Grothman and ...   \n",
       "\n",
       "                                    subjects state_info party_affiliation  \\\n",
       "0                                   abortion      Texas        republican   \n",
       "1                             foreign-policy   Illinois          democrat   \n",
       "2                                health-care    Unknown              none   \n",
       "3                                  education  Wisconsin        republican   \n",
       "4  energy,message-machine-2014,voting-record  Wisconsin        republican   \n",
       "\n",
       "                     context  \\\n",
       "0                   a mailer   \n",
       "1                     Denver   \n",
       "2             a news release   \n",
       "3  a an online opinion-piece   \n",
       "4            an online video   \n",
       "\n",
       "                              statement_with_context  \n",
       "0  a mailer Says the Annies List political group ...  \n",
       "1  Denver Hillary Clinton agrees with John McCain...  \n",
       "2  a news release Health care reform legislation ...  \n",
       "3  a an online opinion-piece The Chicago Bears ha...  \n",
       "4  an online video Says GOP primary opponents Gle...  "
      ]
     },
     "execution_count": 39,
     "metadata": {},
     "output_type": "execute_result"
    }
   ],
   "source": [
    "# Creating a new column in the dataframe with the concatenation of the statement string + the context string\n",
    "df_tot[\"statement_with_context\"] = df_tot[\"context\"] + \" \" + df_tot[\"statement\"]\n",
    "df_tot.head()"
   ]
  },
  {
   "cell_type": "code",
   "execution_count": 40,
   "metadata": {},
   "outputs": [],
   "source": [
    "# Reassigning the split dataframes\n",
    "df_train = df_tot[:df_train.shape[0]]\n",
    "df_valid = df_tot[df_train.shape[0]:-df_test.shape[0]]\n",
    "df_test = df_tot[-df_test.shape[0]:]"
   ]
  },
  {
   "cell_type": "code",
   "execution_count": 41,
   "metadata": {},
   "outputs": [],
   "source": [
    "# Creating a new corpus with the statement combined with the context\n",
    "corpus_train_ctxt = list(df_train['statement_with_context'])\n",
    "corpus_valid_ctxt = list(df_valid['statement_with_context'])\n",
    "corpus_test_ctxt = list(df_test['statement_with_context'])\n",
    "corpus_tot_ctxt = list(df_tot['statement_with_context'])\n",
    "\n",
    "# Stemming\n",
    "porter = PorterStemmer()\n",
    "stemmed_corpus_ctxt = stem_corpus(porter, corpus_tot_ctxt)\n",
    "\n",
    "stemmed_corpus_ctxt_list = [' '.join(x) for x in stemmed_corpus_ctxt]"
   ]
  },
  {
   "cell_type": "code",
   "execution_count": 44,
   "metadata": {},
   "outputs": [],
   "source": [
    "# Creating a metadata matrix, which merges OneHotEncoded matrices of subjects, states, party and the random projections of the context\n",
    "unique_states = sorted(pd.unique(df_tot['state_info']))\n",
    "unique_party = sorted(pd.unique(df_tot['party_affiliation']))\n",
    "\n",
    "subject_df = pd.DataFrame(subjects_matrix, columns = unique_subjects, index = list(range(len(stemmed_corpus))))\n",
    "states_mat = OneHotEncoder().fit_transform(np.array(df_tot['state_info']).reshape(-1,1)).toarray()\n",
    "states_df = pd.DataFrame(states_mat, columns = unique_states, index = list(range(len(stemmed_corpus))))\n",
    "party_mat = OneHotEncoder().fit_transform(np.array(df_tot['party_affiliation']).reshape(-1,1)).toarray()\n",
    "party_df = pd.DataFrame(party_mat, columns = unique_party, index = list(range(len(stemmed_corpus))))\n",
    "md_df = subject_df.merge(states_df, left_index = True, right_index = True).merge(party_df, left_index = True, right_index = True)\n",
    "\n",
    "ctxt_mat = OneHotEncoder().fit_transform(np.array(df_tot['context']).reshape(-1,1)).toarray()\n",
    "n = 100\n",
    "transformer = GaussianRandomProjection(n_components = n)\n",
    "ctxt_red_mat = transformer.fit_transform(ctxt_mat)\n",
    "ctxt_red_df = pd.DataFrame(ctxt_red_mat, columns = list(range(n)), index = list(range(len(stemmed_corpus))))\n",
    "md_and_ctxt_df = md_df.merge(ctxt_red_df, left_index = True, right_index = True)\n"
   ]
  },
  {
   "cell_type": "markdown",
   "metadata": {},
   "source": [
    "### 2.5.2 Creating the new X matrix"
   ]
  },
  {
   "cell_type": "code",
   "execution_count": 45,
   "metadata": {},
   "outputs": [
    {
     "name": "stdout",
     "output_type": "stream",
     "text": [
      "(7993, 5663)\n"
     ]
    }
   ],
   "source": [
    "TfV = TfidfVectorizer(ngram_range = (1,2), min_df = 3)\n",
    "X = TfV.fit_transform(stemmed_corpus_list)\n",
    "tfidf_matrix = pd.DataFrame(X.toarray())\n",
    "\n",
    "print(tfidf_matrix.shape)"
   ]
  },
  {
   "cell_type": "code",
   "execution_count": 31,
   "metadata": {},
   "outputs": [
    {
     "data": {
      "text/plain": [
       "(7993, 5965)"
      ]
     },
     "execution_count": 31,
     "metadata": {},
     "output_type": "execute_result"
    }
   ],
   "source": [
    "X_md = tfidf_matrix.merge(md_and_ctxt_df, left_index=True, right_index=True)\n",
    "print(X_md.shape)"
   ]
  },
  {
   "cell_type": "code",
   "execution_count": 34,
   "metadata": {},
   "outputs": [
    {
     "data": {
      "text/plain": [
       "(6416, 5965)"
      ]
     },
     "execution_count": 34,
     "metadata": {},
     "output_type": "execute_result"
    }
   ],
   "source": [
    "# Train-valid-test split\n",
    "X_train_md = X_md.to_numpy()[:df_train.shape[0]]\n",
    "X_valid_md = X_md.to_numpy()[df_train.shape[0]:-df_test.shape[0]]\n",
    "X_test_md = X_md.to_numpy()[-df_test.shape[0]:]"
   ]
  },
  {
   "cell_type": "markdown",
   "metadata": {
    "id": "OL-s46ssGtt0"
   },
   "source": [
    "### 2.5.3 Support Vector Machine with linear kernel"
   ]
  },
  {
   "cell_type": "code",
   "execution_count": 35,
   "metadata": {
    "colab": {
     "base_uri": "https://localhost:8080/"
    },
    "executionInfo": {
     "elapsed": 679274,
     "status": "ok",
     "timestamp": 1666448263415,
     "user": {
      "displayName": "Alessandro Cortese",
      "userId": "14647393946910041170"
     },
     "user_tz": -120
    },
    "id": "VdVrRRcBGtt2",
    "outputId": "ed5effb0-5167-4190-c336-f4eeeb49e2f5"
   },
   "outputs": [
    {
     "name": "stdout",
     "output_type": "stream",
     "text": [
      "ACCURACY SCORE with C = 0.001 is: 0.5277078085642317\n",
      "ACCURACY SCORE with C = 0.01 is: 0.6032745591939547\n",
      "ACCURACY SCORE with C = 0.1 is: 0.6561712846347607\n",
      "ACCURACY SCORE with C = 1 is: 0.6624685138539043\n",
      "ACCURACY SCORE with C = 10 is: 0.6297229219143576\n",
      "ACCURACY SCORE with C = 100 is: 0.6158690176322418\n",
      "ACCURACY SCORE with C = 1000 is: 0.6158690176322418\n",
      "The maximum accuracy is reached with C =  1\n"
     ]
    }
   ],
   "source": [
    "# Hyperparameter tuning of the cost parameter with validation set approach and grid search.\n",
    "grid_params = []\n",
    "for cost in [0.001, 0.01, 0.1, 1, 10, 100, 1000]:\n",
    "    svm = SVC(kernel='linear', C = cost)\n",
    "    svm.fit(X_train_md, y_train)\n",
    "    y_pred_md_valid = svm.predict(X_valid_md)\n",
    "    acc = accuracy_score(y_valid, y_pred_md_valid)\n",
    "    grid_params.append((cost, acc))\n",
    "    print(f\"ACCURACY SCORE with C = {cost} is: {acc}\")\n",
    "\n",
    "best_param = max(grid_params, key = lambda x: x[1])[0]\n",
    "print(\"The maximum accuracy is reached with C = \", best_param)"
   ]
  },
  {
   "cell_type": "markdown",
   "metadata": {
    "id": "Rc9uTCoDGtt3"
   },
   "source": [
    "#### Predicting on the test set"
   ]
  },
  {
   "cell_type": "code",
   "execution_count": 36,
   "metadata": {
    "colab": {
     "base_uri": "https://localhost:8080/",
     "height": 297
    },
    "executionInfo": {
     "elapsed": 103950,
     "status": "ok",
     "timestamp": 1666448367356,
     "user": {
      "displayName": "Alessandro Cortese",
      "userId": "14647393946910041170"
     },
     "user_tz": -120
    },
    "id": "9O5hQeiLGtt3",
    "outputId": "c492e6a2-e2fc-49a2-b598-61ab0bd9cec7"
   },
   "outputs": [
    {
     "name": "stdout",
     "output_type": "stream",
     "text": [
      "Accuracy:  0.6513409961685823\n"
     ]
    },
    {
     "data": {
      "image/png": "[encoded data removed]",
      "text/plain": [
       "<Figure size 432x288 with 2 Axes>"
      ]
     },
     "metadata": {
      "needs_background": "light"
     },
     "output_type": "display_data"
    }
   ],
   "source": [
    "svm = SVC(kernel='linear', C = best_param) # we select the best cost parameter according to our grid search above\n",
    "svm.fit(X_train_md, y_train)\n",
    "y_pred_md = svm.predict(X_test_md)\n",
    "\n",
    "# Test accuracy\n",
    "print(\"Accuracy: \", accuracy_score(y_test, y_pred_md))\n",
    "\n",
    "conf_mat = ConfusionMatrixDisplay(confusion_matrix(y_test, y_pred_md))\n",
    "conf_mat.plot()\n",
    "plt.show()"
   ]
  },
  {
   "cell_type": "markdown",
   "metadata": {
    "id": "kh0pEnlKGtt4"
   },
   "source": [
    "#### Feature importance\n",
    "\n"
   ]
  },
  {
   "cell_type": "code",
   "execution_count": 46,
   "metadata": {
    "colab": {
     "base_uri": "https://localhost:8080/",
     "height": 265
    },
    "executionInfo": {
     "elapsed": 28,
     "status": "ok",
     "timestamp": 1666448367360,
     "user": {
      "displayName": "Alessandro Cortese",
      "userId": "14647393946910041170"
     },
     "user_tz": -120
    },
    "id": "Il-SplJrGtt5",
    "outputId": "d3387610-ecf3-4e3b-87f2-f21d44ba873e"
   },
   "outputs": [],
   "source": [
    "# Feature importance: ranking the coefficients of the SVM model\n",
    "sorted_feat_vocab = sorted(TfV.vocabulary_.keys())\n",
    "coef_svm = list(enumerate(svm.coef_[0]))\n",
    "coef_svm = sorted(coef_svm, key = lambda k:k[1], reverse=True) # we sort the coefficients from highest to lowest\n",
    "feature_names = []\n",
    "\n",
    "for i,x in coef_svm:\n",
    "    feature_names.append(sorted_feat_vocab[i])\n",
    "coef_svm = [x[1] for x in coef_svm]\n",
    "\n",
    "f_importances(coef_svm, feature_names, 15)"
   ]
  },
  {
   "cell_type": "markdown",
   "metadata": {
    "id": "GxVIXNaxGtt6"
   },
   "source": [
    "### 2.5.4 Random Forest "
   ]
  },
  {
   "cell_type": "markdown",
   "metadata": {
    "id": "bLz1pFwcGtt7"
   },
   "source": [
    "#### Hyperparameter tuning"
   ]
  },
  {
   "cell_type": "code",
   "execution_count": 38,
   "metadata": {
    "colab": {
     "base_uri": "https://localhost:8080/"
    },
    "executionInfo": {
     "elapsed": 587784,
     "status": "ok",
     "timestamp": 1666448955121,
     "user": {
      "displayName": "Alessandro Cortese",
      "userId": "14647393946910041170"
     },
     "user_tz": -120
    },
    "id": "iHgWtU4QGtt7",
    "outputId": "3b51cd88-82e6-42cf-e461-822456a8240d"
   },
   "outputs": [
    {
     "name": "stdout",
     "output_type": "stream",
     "text": [
      "ACCURACY SCORE with N_TREES = 50 is: 0.6032745591939547\n",
      "ACCURACY SCORE with N_TREES = 100 is: 0.6158690176322418\n",
      "ACCURACY SCORE with N_TREES = 200 is: 0.6196473551637279\n",
      "ACCURACY SCORE with N_TREES = 500 is: 0.6158690176322418\n",
      "ACCURACY SCORE with N_TREES = 1000 is: 0.6209068010075567\n",
      "The maximum accuracy is reached with n_trees =  1000\n"
     ]
    }
   ],
   "source": [
    "# Hyperparameter tuning \n",
    "grid_params = []\n",
    "for n_trees in [50, 100, 200, 500, 1000]:\n",
    "        rfc = RandomForestClassifier(n_estimators = n_trees, random_state = 16)\n",
    "        rfc.fit(X_train_md, y_train)\n",
    "        y_pred_md_valid = rfc.predict(X_valid_md)\n",
    "        acc = accuracy_score(y_valid, y_pred_md_valid)\n",
    "        grid_params.append((n_trees, acc))\n",
    "        print(f\"ACCURACY SCORE with N_TREES = {n_trees} is: {acc}\")\n",
    "\n",
    "best_param = max(grid_params, key = lambda x: x[1])[0]\n",
    "print(\"The maximum accuracy is reached with n_trees = \", best_param)"
   ]
  },
  {
   "cell_type": "markdown",
   "metadata": {
    "id": "_lKUm6vrGtt8"
   },
   "source": [
    "#### Predicting on the test set"
   ]
  },
  {
   "cell_type": "code",
   "execution_count": 42,
   "metadata": {
    "colab": {
     "base_uri": "https://localhost:8080/",
     "height": 297
    },
    "executionInfo": {
     "elapsed": 15558,
     "status": "ok",
     "timestamp": 1666448970673,
     "user": {
      "displayName": "Alessandro Cortese",
      "userId": "14647393946910041170"
     },
     "user_tz": -120
    },
    "id": "nnoXw703Gtt8",
    "outputId": "7f9a9441-9916-4664-d2e3-2426bd481fe1"
   },
   "outputs": [
    {
     "name": "stdout",
     "output_type": "stream",
     "text": [
      "Accuracy:  0.6219667943805874\n"
     ]
    },
    {
     "data": {
      "image/png": "[encoded data removed]",
      "text/plain": [
       "<Figure size 432x288 with 2 Axes>"
      ]
     },
     "metadata": {
      "needs_background": "light"
     },
     "output_type": "display_data"
    }
   ],
   "source": [
    "rfc = RandomForestClassifier(n_estimators = best_param, random_state = 16)\n",
    "rfc.fit(X_train_md, y_train)\n",
    "y_pred_md = rfc.predict(X_test_md)\n",
    "\n",
    "# Test accuracy\n",
    "print(\"Accuracy: \", accuracy_score(y_test, y_pred_md))\n",
    "\n",
    "conf_mat = ConfusionMatrixDisplay(confusion_matrix(y_test, y_pred_md))\n",
    "conf_mat.plot()\n",
    "plt.show()"
   ]
  },
  {
   "cell_type": "markdown",
   "metadata": {
    "id": "dEeq2TSdGtt9"
   },
   "source": [
    "#### Feature importance"
   ]
  },
  {
   "cell_type": "code",
   "execution_count": null,
   "metadata": {
    "colab": {
     "base_uri": "https://localhost:8080/",
     "height": 265
    },
    "executionInfo": {
     "elapsed": 21,
     "status": "ok",
     "timestamp": 1666448970674,
     "user": {
      "displayName": "Alessandro Cortese",
      "userId": "14647393946910041170"
     },
     "user_tz": -120
    },
    "id": "ReALzek5Gtt9",
    "outputId": "0e81d643-a3bd-4ee1-a1f9-0ac052d9cb17"
   },
   "outputs": [
    {
     "data": {
      "image/png": "[encoded data removed]",
      "text/plain": [
       "<Figure size 432x288 with 1 Axes>"
      ]
     },
     "metadata": {},
     "output_type": "display_data"
    }
   ],
   "source": [
    "zipped_list = zip(sorted_feat_vocab, rfc.feature_importances_)\n",
    "\n",
    "importances = sorted(zipped_list, key = lambda k:k[1], reverse = True) # we sort the coefficients from highest to lowest\n",
    "coeffs = list(zip(*importances))[1]\n",
    "names = list(zip(*importances))[0]\n",
    "    \n",
    "f_importances(coeffs, names, k = 15) "
   ]
  },
  {
   "cell_type": "markdown",
   "metadata": {
    "id": "sRFytoYlq0AK"
   },
   "source": [
    "# 3. Word2Vec"
   ]
  },
  {
   "cell_type": "markdown",
   "metadata": {},
   "source": [
    "In order to get sentence embeddings for each statement we computed either a simple or a weigthed (with tfidf as weight) average of the Word2Vec feature vector of each word in a statement."
   ]
  },
  {
   "cell_type": "markdown",
   "metadata": {
    "id": "RuAlfDtlAvFd"
   },
   "source": [
    "## 3.1 Pre-trained Google news model with simple average"
   ]
  },
  {
   "cell_type": "code",
   "execution_count": 31,
   "metadata": {
    "colab": {
     "base_uri": "https://localhost:8080/"
    },
    "executionInfo": {
     "elapsed": 924615,
     "status": "ok",
     "timestamp": 1665760544852,
     "user": {
      "displayName": "Alessandro Cortese",
      "userId": "14647393946910041170"
     },
     "user_tz": -120
    },
    "id": "CezDkReAlNhH",
    "outputId": "aea533a2-d377-4b0f-c687-6138ed8fb7a8"
   },
   "outputs": [],
   "source": [
    "# Loading pre-trained model on google news.\n",
    "wv_google = api.load(\"word2vec-google-news-300\")"
   ]
  },
  {
   "cell_type": "code",
   "execution_count": 32,
   "metadata": {
    "id": "R_iIwnQu_PxX"
   },
   "outputs": [],
   "source": [
    "# We create a corpus which is tokenized but not stemmed (otherwise there won't be many words in the google-news vocabulary)\n",
    "tokenized_corpus = [tokenize_sent(sent) for sent in corpus_tot]"
   ]
  },
  {
   "cell_type": "code",
   "execution_count": 132,
   "metadata": {
    "colab": {
     "base_uri": "https://localhost:8080/"
    },
    "executionInfo": {
     "elapsed": 2309,
     "status": "ok",
     "timestamp": 1665760634925,
     "user": {
      "displayName": "Alessandro Cortese",
      "userId": "14647393946910041170"
     },
     "user_tz": -120
    },
    "id": "5PthrLFaB1sf",
    "outputId": "80665d13-c7b0-42ab-b418-4a5e095d894d"
   },
   "outputs": [],
   "source": [
    "# Creating the matrix of the average vectors of each statement in the corpus\n",
    "google_vocab = set(wv_google.index_to_key)\n",
    "sents_mat_ggl = np.zeros((len(tokenized_corpus), 300))\n",
    "\n",
    "for i in range(len(tokenized_corpus)):\n",
    "    c = 0\n",
    "    for word in tokenized_corpus[i]:\n",
    "        if word in google_vocab:\n",
    "            sents_mat_ggl[i] += wv_google[word]\n",
    "            c += 1\n",
    "    if c != 0:\n",
    "        sents_mat_ggl[i] = sents_mat_ggl[i] / c"
   ]
  },
  {
   "cell_type": "code",
   "execution_count": 133,
   "metadata": {
    "id": "tHTNP5R3Ew5d"
   },
   "outputs": [],
   "source": [
    "# Train-valid-test split\n",
    "X_train_ggl = sents_mat_ggl[:df_train.shape[0]]\n",
    "X_valid_ggl = sents_mat_ggl[df_train.shape[0]:-df_test.shape[0]]\n",
    "X_test_ggl = sents_mat_ggl[-df_test.shape[0]:]"
   ]
  },
  {
   "cell_type": "markdown",
   "metadata": {
    "id": "v0O5FZSuvMHv"
   },
   "source": [
    "### 3.1.1 Support Vector Machine with linear kernel"
   ]
  },
  {
   "cell_type": "markdown",
   "metadata": {
    "id": "Dqm9lO6vvMHw"
   },
   "source": [
    "#### Hyperparameter tuning"
   ]
  },
  {
   "cell_type": "code",
   "execution_count": 62,
   "metadata": {
    "colab": {
     "base_uri": "https://localhost:8080/"
    },
    "executionInfo": {
     "elapsed": 378290,
     "status": "ok",
     "timestamp": 1666445392471,
     "user": {
      "displayName": "Alessandro Cortese",
      "userId": "14647393946910041170"
     },
     "user_tz": -120
    },
    "id": "dJ1ltsYuvMHy",
    "outputId": "29efbad9-9987-4b9e-ee4a-ea9af9cf3edd"
   },
   "outputs": [
    {
     "name": "stdout",
     "output_type": "stream",
     "text": [
      "ACCURACY SCORE with C = 0.001 is: 0.5277078085642317\n",
      "ACCURACY SCORE with C = 0.01 is: 0.5428211586901763\n",
      "ACCURACY SCORE with C = 0.1 is: 0.6372795969773299\n",
      "ACCURACY SCORE with C = 1 is: 0.6309823677581864\n",
      "ACCURACY SCORE with C = 10 is: 0.6209068010075567\n",
      "ACCURACY SCORE with C = 100 is: 0.6171284634760705\n",
      "ACCURACY SCORE with C = 1000 is: 0.6171284634760705\n",
      "The maximum accuracy is reached with C =  0.1\n"
     ]
    }
   ],
   "source": [
    "# Hyperparameter tuning of the cost parameter with validation set approach and grid search.\n",
    "grid_params = []\n",
    "for cost in [0.001, 0.01, 0.1, 1, 10, 100, 1000]:\n",
    "    svm = SVC(kernel='linear', C = cost)\n",
    "    svm.fit(X_train_ggl, y_train)\n",
    "    y_pred_ggl_valid = svm.predict(X_valid_ggl)\n",
    "    acc = accuracy_score(y_valid, y_pred_ggl_valid)\n",
    "    grid_params.append((cost, acc))\n",
    "    print(f\"ACCURACY SCORE with C = {cost} is: {acc}\")\n",
    "\n",
    "best_param = max(grid_params, key = lambda x: x[1])[0]\n",
    "print(\"The maximum accuracy is reached with C = \", best_param)"
   ]
  },
  {
   "cell_type": "markdown",
   "metadata": {
    "id": "y0KN_IffvMH0"
   },
   "source": [
    "#### Predicting on the test set"
   ]
  },
  {
   "cell_type": "code",
   "execution_count": 63,
   "metadata": {
    "colab": {
     "base_uri": "https://localhost:8080/",
     "height": 296
    },
    "executionInfo": {
     "elapsed": 56659,
     "status": "ok",
     "timestamp": 1666445449121,
     "user": {
      "displayName": "Alessandro Cortese",
      "userId": "14647393946910041170"
     },
     "user_tz": -120
    },
    "id": "HNg6ggw-vMH2",
    "outputId": "83f9ebc0-b9e9-44fa-c96f-9f3a02094c34"
   },
   "outputs": [
    {
     "name": "stdout",
     "output_type": "stream",
     "text": [
      "Accuracy:  0.6309067688378033\n"
     ]
    },
    {
     "data": {
      "image/png": "[encoded data removed]",
      "text/plain": [
       "<Figure size 432x288 with 2 Axes>"
      ]
     },
     "metadata": {
      "needs_background": "light"
     },
     "output_type": "display_data"
    }
   ],
   "source": [
    "svm = SVC(kernel='linear', C = best_param) # we select the best cost parameter according to our grid search above\n",
    "svm.fit(X_train_ggl, y_train)\n",
    "y_pred_ggl = svm.predict(X_test_ggl)\n",
    "\n",
    "# Test accuracy\n",
    "print(\"Accuracy: \", accuracy_score(y_test, y_pred_ggl))\n",
    "\n",
    "conf_mat = ConfusionMatrixDisplay(confusion_matrix(y_test, y_pred_ggl))\n",
    "conf_mat.plot()\n",
    "plt.show()"
   ]
  },
  {
   "cell_type": "markdown",
   "metadata": {
    "id": "dB6VoB0-vMH2"
   },
   "source": [
    "### 3.1.2 Random Forest "
   ]
  },
  {
   "cell_type": "markdown",
   "metadata": {
    "id": "cmEqN-4kvMH3"
   },
   "source": [
    "#### Hyperparameter tuning"
   ]
  },
  {
   "cell_type": "code",
   "execution_count": 35,
   "metadata": {
    "colab": {
     "base_uri": "https://localhost:8080/"
    },
    "executionInfo": {
     "elapsed": 318311,
     "status": "ok",
     "timestamp": 1666445767771,
     "user": {
      "displayName": "Alessandro Cortese",
      "userId": "14647393946910041170"
     },
     "user_tz": -120
    },
    "id": "Gtv19JNOvMH4",
    "outputId": "1851cbb3-eb42-43a7-8b70-d3babf1463ff"
   },
   "outputs": [
    {
     "name": "stdout",
     "output_type": "stream",
     "text": [
      "ACCURACY SCORE with N_TREES = 50 is: 0.6221662468513854\n",
      "ACCURACY SCORE with N_TREES = 100 is: 0.6423173803526449\n",
      "ACCURACY SCORE with N_TREES = 200 is: 0.6423173803526449\n",
      "ACCURACY SCORE with N_TREES = 500 is: 0.6297229219143576\n",
      "ACCURACY SCORE with N_TREES = 1000 is: 0.6259445843828715\n",
      "The maximum accuracy is reached with n_trees =  100\n"
     ]
    }
   ],
   "source": [
    "# Hyperparameter tuning \n",
    "n_features = X_train_ggl.shape[1]\n",
    "\n",
    "grid_params = []\n",
    "for n_trees in [50, 100, 200, 500, 1000]:\n",
    "        rfc = RandomForestClassifier(n_estimators = n_trees, random_state = 16)\n",
    "        rfc.fit(X_train_ggl, y_train)\n",
    "        y_pred_ggl_valid = rfc.predict(X_valid_ggl)\n",
    "        acc = accuracy_score(y_valid, y_pred_ggl_valid)\n",
    "        grid_params.append((n_trees, acc))\n",
    "        print(f\"ACCURACY SCORE with N_TREES = {n_trees} is: {acc}\")\n",
    "\n",
    "best_param = max(grid_params, key = lambda x: x[1])[0]\n",
    "print(\"The maximum accuracy is reached with n_trees = \", best_param)"
   ]
  },
  {
   "cell_type": "markdown",
   "metadata": {
    "id": "u_StMtIsvMH6"
   },
   "source": [
    "#### Predicting on the test set"
   ]
  },
  {
   "cell_type": "code",
   "execution_count": 36,
   "metadata": {
    "colab": {
     "base_uri": "https://localhost:8080/",
     "height": 296
    },
    "executionInfo": {
     "elapsed": 16930,
     "status": "ok",
     "timestamp": 1666445784695,
     "user": {
      "displayName": "Alessandro Cortese",
      "userId": "14647393946910041170"
     },
     "user_tz": -120
    },
    "id": "kBLQEp30vMH7",
    "outputId": "cac48c33-456c-47a9-e02a-0c3e8c71db9e"
   },
   "outputs": [
    {
     "name": "stdout",
     "output_type": "stream",
     "text": [
      "Accuracy:  0.6015325670498084\n"
     ]
    },
    {
     "data": {
      "image/png": "[encoded data removed]",
      "text/plain": [
       "<Figure size 432x288 with 2 Axes>"
      ]
     },
     "metadata": {
      "needs_background": "light"
     },
     "output_type": "display_data"
    }
   ],
   "source": [
    "rfc = RandomForestClassifier(n_estimators = 100, random_state = 16)\n",
    "rfc.fit(X_train_ggl, y_train)\n",
    "y_pred_ggl = rfc.predict(X_test_ggl)\n",
    "\n",
    "# Test accuracy\n",
    "print(\"Accuracy: \", accuracy_score(y_test, y_pred_ggl))\n",
    "\n",
    "conf_mat = ConfusionMatrixDisplay(confusion_matrix(y_test, y_pred_ggl))\n",
    "conf_mat.plot()\n",
    "plt.show()"
   ]
  },
  {
   "cell_type": "markdown",
   "metadata": {
    "id": "sbe0SdTzA3Wb"
   },
   "source": [
    "## 3.2 Model trained on our corpus with simple average"
   ]
  },
  {
   "cell_type": "code",
   "execution_count": 47,
   "metadata": {
    "id": "QevqIB6FeZ3Y"
   },
   "outputs": [],
   "source": [
    "# In order to train a Word2Vec model we need to use the LineSentence class which requires a txt file of the corpus\n",
    "stemmed_corpus_string = ''\n",
    "\n",
    "for sent in stemmed_corpus_list:\n",
    "    stemmed_corpus_string += sent + '\\n'\n",
    "\n",
    "with open(\"stemmed_corpus_string.txt\",'w',encoding = 'utf-8') as f:\n",
    "    f.write(stemmed_corpus_string)"
   ]
  },
  {
   "cell_type": "code",
   "execution_count": 38,
   "metadata": {
    "id": "wDC15AHdstsD"
   },
   "outputs": [],
   "source": [
    "# Training word2vec model using our corpus\n",
    "sentences=LineSentence(\"stemmed_corpus_string.txt\")\n",
    "\n",
    "vector_size = 100\n",
    "w2v_liar = Word2Vec(sentences = sentences, vector_size=vector_size, window = 5, sg=0, min_count=1, negative = 5)"
   ]
  },
  {
   "cell_type": "code",
   "execution_count": 78,
   "metadata": {
    "id": "yuc-XOhKKVGQ"
   },
   "outputs": [],
   "source": [
    "# Creating the matrix of the average vectors of each statement in the corpus\n",
    "sents_mat = np.zeros((len(stemmed_corpus), vector_size))\n",
    "\n",
    "for i in range(len(stemmed_corpus)):\n",
    "    for word in stemmed_corpus[i]:\n",
    "        sents_mat[i] += w2v_liar.wv[word]\n",
    "    sents_mat[i] = sents_mat[i] / len(stemmed_corpus[i])"
   ]
  },
  {
   "cell_type": "code",
   "execution_count": 79,
   "metadata": {
    "id": "3E1IGK4EK-2Q"
   },
   "outputs": [],
   "source": [
    "# Train-valid-test split\n",
    "X_train_s2v = sents_mat[:df_train.shape[0]]\n",
    "X_valid_s2v = sents_mat[df_train.shape[0]:-df_test.shape[0]]\n",
    "X_test_s2v = sents_mat[-df_test.shape[0]:]"
   ]
  },
  {
   "cell_type": "markdown",
   "metadata": {
    "id": "v0O5FZSuvMHv"
   },
   "source": [
    "### 3.2.1 Support Vector Machine with linear kernel"
   ]
  },
  {
   "cell_type": "markdown",
   "metadata": {
    "id": "Dqm9lO6vvMHw"
   },
   "source": [
    "#### Hyperparameter tuning"
   ]
  },
  {
   "cell_type": "code",
   "execution_count": 81,
   "metadata": {
    "colab": {
     "base_uri": "https://localhost:8080/"
    },
    "executionInfo": {
     "elapsed": 378290,
     "status": "ok",
     "timestamp": 1666445392471,
     "user": {
      "displayName": "Alessandro Cortese",
      "userId": "14647393946910041170"
     },
     "user_tz": -120
    },
    "id": "dJ1ltsYuvMHy",
    "outputId": "29efbad9-9987-4b9e-ee4a-ea9af9cf3edd"
   },
   "outputs": [
    {
     "name": "stdout",
     "output_type": "stream",
     "text": [
      "ACCURACY SCORE with C = 0.001 is: 0.5277078085642317\n",
      "ACCURACY SCORE with C = 0.01 is: 0.5277078085642317\n",
      "ACCURACY SCORE with C = 0.1 is: 0.5289672544080605\n",
      "ACCURACY SCORE with C = 1 is: 0.5465994962216625\n",
      "ACCURACY SCORE with C = 10 is: 0.5617128463476071\n",
      "ACCURACY SCORE with C = 100 is: 0.5919395465994962\n",
      "ACCURACY SCORE with C = 1000 is: 0.5994962216624685\n",
      "ACCURACY SCORE with C = 10000 is: 0.610831234256927\n",
      "ACCURACY SCORE with C = 100000 is: 0.6171284634760705\n",
      "The maximum accuracy is reached with C =  100000\n"
     ]
    }
   ],
   "source": [
    "# Hyperparameter tuning of the cost parameter with validation set approach and grid search.\n",
    "grid_params = []\n",
    "for cost in [0.001, 0.01, 0.1, 1, 10, 100, 1000, 10000, 100000]:\n",
    "    svm = SVC(kernel='linear', C = cost)\n",
    "    svm.fit(X_train_s2v, y_train)\n",
    "    y_pred_s2v_valid = svm.predict(X_valid_s2v)\n",
    "    acc = accuracy_score(y_valid, y_pred_s2v_valid)\n",
    "    grid_params.append((cost, acc))\n",
    "    print(f\"ACCURACY SCORE with C = {cost} is: {acc}\")\n",
    "\n",
    "best_param = max(grid_params, key = lambda x: x[1])[0]\n",
    "print(\"The maximum accuracy is reached with C = \", best_param)"
   ]
  },
  {
   "cell_type": "markdown",
   "metadata": {
    "id": "y0KN_IffvMH0"
   },
   "source": [
    "#### Predicting on the test set"
   ]
  },
  {
   "cell_type": "code",
   "execution_count": 82,
   "metadata": {
    "colab": {
     "base_uri": "https://localhost:8080/",
     "height": 296
    },
    "executionInfo": {
     "elapsed": 56659,
     "status": "ok",
     "timestamp": 1666445449121,
     "user": {
      "displayName": "Alessandro Cortese",
      "userId": "14647393946910041170"
     },
     "user_tz": -120
    },
    "id": "HNg6ggw-vMH2",
    "outputId": "83f9ebc0-b9e9-44fa-c96f-9f3a02094c34"
   },
   "outputs": [
    {
     "name": "stdout",
     "output_type": "stream",
     "text": [
      "Accuracy:  0.5849297573435505\n"
     ]
    },
    {
     "data": {
      "image/png": "[encoded data removed]",
      "text/plain": [
       "<Figure size 432x288 with 2 Axes>"
      ]
     },
     "metadata": {
      "needs_background": "light"
     },
     "output_type": "display_data"
    }
   ],
   "source": [
    "svm = SVC(kernel='linear', C = 1000) # we select the best cost parameter according to our grid search above\n",
    "svm.fit(X_train_s2v, y_train)\n",
    "y_pred_s2v = svm.predict(X_test_s2v)\n",
    "\n",
    "# Test accuracy\n",
    "print(\"Accuracy: \", accuracy_score(y_test, y_pred_s2v))\n",
    "\n",
    "conf_mat = ConfusionMatrixDisplay(confusion_matrix(y_test, y_pred_s2v))\n",
    "conf_mat.plot()\n",
    "plt.show()"
   ]
  },
  {
   "cell_type": "markdown",
   "metadata": {
    "id": "dB6VoB0-vMH2"
   },
   "source": [
    "### 3.2.2 Random Forest "
   ]
  },
  {
   "cell_type": "markdown",
   "metadata": {
    "id": "cmEqN-4kvMH3"
   },
   "source": [
    "#### Hyperparameter tuning"
   ]
  },
  {
   "cell_type": "code",
   "execution_count": 83,
   "metadata": {
    "colab": {
     "base_uri": "https://localhost:8080/"
    },
    "executionInfo": {
     "elapsed": 318311,
     "status": "ok",
     "timestamp": 1666445767771,
     "user": {
      "displayName": "Alessandro Cortese",
      "userId": "14647393946910041170"
     },
     "user_tz": -120
    },
    "id": "Gtv19JNOvMH4",
    "outputId": "1851cbb3-eb42-43a7-8b70-d3babf1463ff"
   },
   "outputs": [
    {
     "name": "stdout",
     "output_type": "stream",
     "text": [
      "ACCURACY SCORE with N_TREES = 50 is: 0.5982367758186398\n",
      "ACCURACY SCORE with N_TREES = 100 is: 0.6007556675062973\n",
      "ACCURACY SCORE with N_TREES = 200 is: 0.6083123425692695\n",
      "ACCURACY SCORE with N_TREES = 500 is: 0.6083123425692695\n",
      "ACCURACY SCORE with N_TREES = 1000 is: 0.6083123425692695\n",
      "The maximum accuracy is reached with n_trees =  200\n"
     ]
    }
   ],
   "source": [
    "# Hyperparameter tuning \n",
    "n_features = vector_size\n",
    "\n",
    "grid_params = []\n",
    "for n_trees in [50, 100, 200, 500, 1000]:\n",
    "        rfc = RandomForestClassifier(n_estimators = n_trees, random_state = 16)\n",
    "        rfc.fit(X_train_s2v, y_train)\n",
    "        y_pred_s2v_valid = rfc.predict(X_valid_s2v)\n",
    "        acc = accuracy_score(y_valid, y_pred_s2v_valid)\n",
    "        grid_params.append((n_trees, acc))\n",
    "        print(f\"ACCURACY SCORE with N_TREES = {n_trees} is: {acc}\")\n",
    "\n",
    "best_param = max(grid_params, key = lambda x: x[1])[0]\n",
    "print(\"The maximum accuracy is reached with n_trees = \", best_param)"
   ]
  },
  {
   "cell_type": "markdown",
   "metadata": {
    "id": "u_StMtIsvMH6"
   },
   "source": [
    "#### Predicting on the test set"
   ]
  },
  {
   "cell_type": "code",
   "execution_count": 84,
   "metadata": {
    "colab": {
     "base_uri": "https://localhost:8080/",
     "height": 296
    },
    "executionInfo": {
     "elapsed": 16930,
     "status": "ok",
     "timestamp": 1666445784695,
     "user": {
      "displayName": "Alessandro Cortese",
      "userId": "14647393946910041170"
     },
     "user_tz": -120
    },
    "id": "kBLQEp30vMH7",
    "outputId": "cac48c33-456c-47a9-e02a-0c3e8c71db9e"
   },
   "outputs": [
    {
     "name": "stdout",
     "output_type": "stream",
     "text": [
      "Accuracy:  0.5900383141762452\n"
     ]
    },
    {
     "data": {
      "image/png": "[encoded data removed]",
      "text/plain": [
       "<Figure size 432x288 with 2 Axes>"
      ]
     },
     "metadata": {
      "needs_background": "light"
     },
     "output_type": "display_data"
    }
   ],
   "source": [
    "rfc = RandomForestClassifier(n_estimators = best_param, random_state = 16)\n",
    "rfc.fit(X_train_s2v, y_train)\n",
    "y_pred_s2v = rfc.predict(X_test_s2v)\n",
    "\n",
    "# Test accuracy\n",
    "print(\"Accuracy: \", accuracy_score(y_test, y_pred_s2v))\n",
    "\n",
    "conf_mat = ConfusionMatrixDisplay(confusion_matrix(y_test, y_pred_s2v))\n",
    "conf_mat.plot()\n",
    "plt.show()"
   ]
  },
  {
   "cell_type": "markdown",
   "metadata": {
    "id": "GFzMjWIvKypb"
   },
   "source": [
    "## 3.3 Model trained on our corpus with weighted average"
   ]
  },
  {
   "cell_type": "code",
   "execution_count": 98,
   "metadata": {
    "colab": {
     "base_uri": "https://localhost:8080/"
    },
    "executionInfo": {
     "elapsed": 26864,
     "status": "ok",
     "timestamp": 1665761593890,
     "user": {
      "displayName": "Alessandro Cortese",
      "userId": "14647393946910041170"
     },
     "user_tz": -120
    },
    "id": "wzMMkDEOhCSJ",
    "outputId": "3dfc881b-feea-4e69-9178-01be0bafdec8"
   },
   "outputs": [],
   "source": [
    "# We create a new tf-idf matrix to retrieve the weights\n",
    "TfV = TfidfVectorizer(vocabulary=set(w2v_liar.wv.index_to_key))\n",
    "X = TfV.fit_transform(stemmed_corpus_list)\n",
    "vocab = set(TfV.vocabulary_.keys())\n",
    "tfidf_matrix = pd.DataFrame(X.toarray(), index = list(range(X.shape[0])), columns = sorted(vocab))\n",
    "\n",
    "# Creating the matrix of the weighted average vectors of each statement in the corpus\n",
    "sents_mat = np.zeros((len(stemmed_corpus), vector_size))\n",
    "for i in range(len(stemmed_corpus)):\n",
    "    c = 0\n",
    "    for word in stemmed_corpus[i]:\n",
    "        sents_mat[i] += w2v_liar.wv[word]*tfidf_matrix.iloc[i][word]\n",
    "        c += tfidf_matrix.iloc[i][word]\n",
    "    if c != 0:\n",
    "        sents_mat[i] = sents_mat[i] / c"
   ]
  },
  {
   "cell_type": "code",
   "execution_count": 103,
   "metadata": {
    "id": "dltq_tICjGk1"
   },
   "outputs": [],
   "source": [
    "# Train-valid-test split\n",
    "X_train_s2v = sents_mat[:df_train.shape[0]]\n",
    "X_valid_s2v = sents_mat[df_train.shape[0]:-df_test.shape[0]]\n",
    "X_test_s2v = sents_mat[-df_test.shape[0]:]"
   ]
  },
  {
   "cell_type": "markdown",
   "metadata": {
    "id": "v0O5FZSuvMHv"
   },
   "source": [
    "### 3.3.1 Support Vector Machine with linear kernel"
   ]
  },
  {
   "cell_type": "markdown",
   "metadata": {
    "id": "Dqm9lO6vvMHw"
   },
   "source": [
    "#### Hyperparameter tuning"
   ]
  },
  {
   "cell_type": "code",
   "execution_count": 105,
   "metadata": {
    "colab": {
     "base_uri": "https://localhost:8080/"
    },
    "executionInfo": {
     "elapsed": 378290,
     "status": "ok",
     "timestamp": 1666445392471,
     "user": {
      "displayName": "Alessandro Cortese",
      "userId": "14647393946910041170"
     },
     "user_tz": -120
    },
    "id": "dJ1ltsYuvMHy",
    "outputId": "29efbad9-9987-4b9e-ee4a-ea9af9cf3edd"
   },
   "outputs": [
    {
     "name": "stdout",
     "output_type": "stream",
     "text": [
      "ACCURACY SCORE with C = 0.001 is: 0.5277078085642317\n",
      "ACCURACY SCORE with C = 0.01 is: 0.5277078085642317\n",
      "ACCURACY SCORE with C = 0.1 is: 0.5277078085642317\n",
      "ACCURACY SCORE with C = 1 is: 0.5453400503778337\n",
      "ACCURACY SCORE with C = 10 is: 0.5516372795969773\n",
      "ACCURACY SCORE with C = 100 is: 0.5717884130982368\n",
      "ACCURACY SCORE with C = 1000 is: 0.5957178841309824\n",
      "The maximum accuracy is reached with C =  1000\n"
     ]
    }
   ],
   "source": [
    "# Hyperparameter tuning of the cost parameter with validation set approach and grid search.\n",
    "grid_params = []\n",
    "for cost in [0.001, 0.01, 0.1, 1, 10, 100, 1000]:\n",
    "    svm = SVC(kernel='linear', C = cost)\n",
    "    svm.fit(X_train_s2v, y_train)\n",
    "    y_pred_s2v_valid = svm.predict(X_valid_s2v)\n",
    "    acc = accuracy_score(y_valid, y_pred_s2v_valid)\n",
    "    grid_params.append((cost, acc))\n",
    "    print(f\"ACCURACY SCORE with C = {cost} is: {acc}\")\n",
    "\n",
    "best_param = max(grid_params, key = lambda x: x[1])[0]\n",
    "print(\"The maximum accuracy is reached with C = \", best_param)"
   ]
  },
  {
   "cell_type": "markdown",
   "metadata": {
    "id": "y0KN_IffvMH0"
   },
   "source": [
    "#### Predicting on the test set"
   ]
  },
  {
   "cell_type": "code",
   "execution_count": 107,
   "metadata": {
    "colab": {
     "base_uri": "https://localhost:8080/",
     "height": 296
    },
    "executionInfo": {
     "elapsed": 56659,
     "status": "ok",
     "timestamp": 1666445449121,
     "user": {
      "displayName": "Alessandro Cortese",
      "userId": "14647393946910041170"
     },
     "user_tz": -120
    },
    "id": "HNg6ggw-vMH2",
    "outputId": "83f9ebc0-b9e9-44fa-c96f-9f3a02094c34"
   },
   "outputs": [
    {
     "name": "stdout",
     "output_type": "stream",
     "text": [
      "Accuracy:  0.5747126436781609\n"
     ]
    },
    {
     "data": {
      "image/png": "[encoded data removed]",
      "text/plain": [
       "<Figure size 432x288 with 2 Axes>"
      ]
     },
     "metadata": {
      "needs_background": "light"
     },
     "output_type": "display_data"
    }
   ],
   "source": [
    "svm = SVC(kernel='linear', C = best_param) # we select the best cost parameter according to our grid search above\n",
    "svm.fit(X_train_s2v, y_train)\n",
    "y_pred_s2v = svm.predict(X_test_s2v)\n",
    "\n",
    "# Test accuracy\n",
    "print(\"Accuracy: \", accuracy_score(y_test, y_pred_s2v))\n",
    "\n",
    "conf_mat = ConfusionMatrixDisplay(confusion_matrix(y_test, y_pred_s2v))\n",
    "conf_mat.plot()\n",
    "plt.show()"
   ]
  },
  {
   "cell_type": "markdown",
   "metadata": {
    "id": "dB6VoB0-vMH2"
   },
   "source": [
    "### 3.3.2 Random Forest "
   ]
  },
  {
   "cell_type": "markdown",
   "metadata": {
    "id": "cmEqN-4kvMH3"
   },
   "source": [
    "#### Hyperparameter tuning"
   ]
  },
  {
   "cell_type": "code",
   "execution_count": 108,
   "metadata": {
    "colab": {
     "base_uri": "https://localhost:8080/"
    },
    "executionInfo": {
     "elapsed": 318311,
     "status": "ok",
     "timestamp": 1666445767771,
     "user": {
      "displayName": "Alessandro Cortese",
      "userId": "14647393946910041170"
     },
     "user_tz": -120
    },
    "id": "Gtv19JNOvMH4",
    "outputId": "1851cbb3-eb42-43a7-8b70-d3babf1463ff"
   },
   "outputs": [
    {
     "name": "stdout",
     "output_type": "stream",
     "text": [
      "ACCURACY SCORE with N_TREES = 50 is: 0.5957178841309824\n",
      "ACCURACY SCORE with N_TREES = 100 is: 0.5969773299748111\n",
      "ACCURACY SCORE with N_TREES = 200 is: 0.6032745591939547\n",
      "ACCURACY SCORE with N_TREES = 500 is: 0.5906801007556675\n",
      "ACCURACY SCORE with N_TREES = 1000 is: 0.593198992443325\n",
      "The maximum accuracy is reached with n_trees =  200\n"
     ]
    }
   ],
   "source": [
    "# Hyperparameter tuning \n",
    "n_features = X_train_s2v.shape[1]\n",
    "\n",
    "grid_params = []\n",
    "for n_trees in [50, 100, 200, 500, 1000]:\n",
    "        rfc = RandomForestClassifier(n_estimators = n_trees, random_state = 16)\n",
    "        rfc.fit(X_train_s2v, y_train)\n",
    "        y_pred_s2v_valid = rfc.predict(X_valid_s2v)\n",
    "        acc = accuracy_score(y_valid, y_pred_s2v_valid)\n",
    "        grid_params.append((n_trees, acc))\n",
    "        print(f\"ACCURACY SCORE with N_TREES = {n_trees} is: {acc}\")\n",
    "\n",
    "best_param = max(grid_params, key = lambda x: x[1])[0]\n",
    "print(\"The maximum accuracy is reached with n_trees = \", best_param)"
   ]
  },
  {
   "cell_type": "markdown",
   "metadata": {
    "id": "u_StMtIsvMH6"
   },
   "source": [
    "#### Predicting on the test set"
   ]
  },
  {
   "cell_type": "code",
   "execution_count": 109,
   "metadata": {
    "colab": {
     "base_uri": "https://localhost:8080/",
     "height": 296
    },
    "executionInfo": {
     "elapsed": 16930,
     "status": "ok",
     "timestamp": 1666445784695,
     "user": {
      "displayName": "Alessandro Cortese",
      "userId": "14647393946910041170"
     },
     "user_tz": -120
    },
    "id": "kBLQEp30vMH7",
    "outputId": "cac48c33-456c-47a9-e02a-0c3e8c71db9e"
   },
   "outputs": [
    {
     "name": "stdout",
     "output_type": "stream",
     "text": [
      "Accuracy:  0.5747126436781609\n"
     ]
    },
    {
     "data": {
      "image/png": "[encoded data removed]",
      "text/plain": [
       "<Figure size 432x288 with 2 Axes>"
      ]
     },
     "metadata": {
      "needs_background": "light"
     },
     "output_type": "display_data"
    }
   ],
   "source": [
    "rfc = RandomForestClassifier(n_estimators = 100, random_state = 16)\n",
    "rfc.fit(X_train_s2v, y_train)\n",
    "y_pred_s2v = rfc.predict(X_test_s2v)\n",
    "\n",
    "# Test accuracy\n",
    "print(\"Accuracy: \", accuracy_score(y_test, y_pred_s2v))\n",
    "\n",
    "conf_mat = ConfusionMatrixDisplay(confusion_matrix(y_test, y_pred_s2v))\n",
    "conf_mat.plot()\n",
    "plt.show()"
   ]
  },
  {
   "cell_type": "markdown",
   "metadata": {
    "id": "mNDwqj3s-D_R"
   },
   "source": [
    "## 3.4 Exploring Word2Vec bigrams"
   ]
  },
  {
   "cell_type": "markdown",
   "metadata": {},
   "source": [
    "The gensim Phrases module can find common bigrams in the corpus, like multi-word expressions such as \"political_group\", and treat them as a word."
   ]
  },
  {
   "cell_type": "code",
   "execution_count": 110,
   "metadata": {
    "colab": {
     "base_uri": "https://localhost:8080/",
     "height": 203
    },
    "executionInfo": {
     "elapsed": 1671,
     "status": "error",
     "timestamp": 1666444716883,
     "user": {
      "displayName": "Alessandro Cortese",
      "userId": "14647393946910041170"
     },
     "user_tz": -120
    },
    "id": "6u-pfvBKsepI",
    "outputId": "cebdbc1b-810d-4033-fad6-fe0361f09a43"
   },
   "outputs": [],
   "source": [
    "# Finding common bigrams\n",
    "statements_tokenized = [tokenize_sent(x) for x in corpus_tot]\n",
    "phrase_model = Phrases(statements_tokenized, min_count=1, threshold=1, connector_words=ENGLISH_CONNECTOR_WORDS)\n",
    "statements_bigrams = phrase_model[statements_tokenized]"
   ]
  },
  {
   "cell_type": "code",
   "execution_count": 111,
   "metadata": {
    "id": "niAAUTGisepL"
   },
   "outputs": [],
   "source": [
    "# Creating the txt file for LineSentence\n",
    "tkn_statements_strings = ''\n",
    "for sent in [' '.join(x) for x in statements_bigrams]:\n",
    "    tkn_statements_strings += sent + '\\n'\n",
    "\n",
    "with open(\"tkn_statements_strings.txt\",'w',encoding = 'utf-8') as f:\n",
    "    f.write(tkn_statements_strings)"
   ]
  },
  {
   "cell_type": "code",
   "execution_count": 112,
   "metadata": {
    "id": "HY2RwayusepM"
   },
   "outputs": [],
   "source": [
    "# Training word2vec model using our corpus\n",
    "sentences=LineSentence(\"tkn_statements_strings.txt\") #TODO: load our sentences in the appropriate way\n",
    "vector_size = 100\n",
    "w2v_liar = Word2Vec(sentences = sentences, vector_size=vector_size, window = 5, sg=0, min_count=1, negative = 5)"
   ]
  },
  {
   "cell_type": "code",
   "execution_count": 116,
   "metadata": {
    "id": "t1UUeoQ1sepN"
   },
   "outputs": [],
   "source": [
    "# Creating the matrix of the average vectors of each statement in the corpus\n",
    "sents_bigr_mat = np.zeros((len(statements_bigrams), vector_size))\n",
    "\n",
    "for i in range(len(statements_bigrams)):\n",
    "    for word in statements_bigrams[i]:\n",
    "        sents_bigr_mat[i] += w2v_liar.wv[word]\n",
    "    sents_bigr_mat[i] = sents_bigr_mat[i] / len(statements_bigrams[i])"
   ]
  },
  {
   "cell_type": "code",
   "execution_count": 120,
   "metadata": {
    "id": "279DRwfssepO"
   },
   "outputs": [],
   "source": [
    "# Train-valid-test split\n",
    "X_train_big = sents_bigr_mat[:df_train.shape[0]]\n",
    "X_valid_big = sents_bigr_mat[df_train.shape[0]:-df_test.shape[0]]\n",
    "X_test_big = sents_bigr_mat[-df_test.shape[0]:]"
   ]
  },
  {
   "cell_type": "markdown",
   "metadata": {
    "id": "v0O5FZSuvMHv"
   },
   "source": [
    "### 3.4.1 Support Vector Machine with linear kernel"
   ]
  },
  {
   "cell_type": "markdown",
   "metadata": {
    "id": "Dqm9lO6vvMHw"
   },
   "source": [
    "#### Hyperparameter tuning"
   ]
  },
  {
   "cell_type": "code",
   "execution_count": 121,
   "metadata": {
    "colab": {
     "base_uri": "https://localhost:8080/"
    },
    "executionInfo": {
     "elapsed": 378290,
     "status": "ok",
     "timestamp": 1666445392471,
     "user": {
      "displayName": "Alessandro Cortese",
      "userId": "14647393946910041170"
     },
     "user_tz": -120
    },
    "id": "dJ1ltsYuvMHy",
    "outputId": "29efbad9-9987-4b9e-ee4a-ea9af9cf3edd"
   },
   "outputs": [
    {
     "name": "stdout",
     "output_type": "stream",
     "text": [
      "ACCURACY SCORE with C = 0.001 is: 0.5277078085642317\n",
      "ACCURACY SCORE with C = 0.01 is: 0.5277078085642317\n",
      "ACCURACY SCORE with C = 0.1 is: 0.5277078085642317\n",
      "ACCURACY SCORE with C = 1 is: 0.5277078085642317\n",
      "ACCURACY SCORE with C = 10 is: 0.5277078085642317\n",
      "ACCURACY SCORE with C = 100 is: 0.5277078085642317\n",
      "ACCURACY SCORE with C = 1000 is: 0.5289672544080605\n",
      "The maximum accuracy is reached with C =  1000\n"
     ]
    }
   ],
   "source": [
    "# Hyperparameter tuning of the cost parameter with validation set approach and grid search.\n",
    "grid_params = []\n",
    "for cost in [0.001, 0.01, 0.1, 1, 10, 100, 1000]:\n",
    "    svm = SVC(kernel='linear', C = cost)\n",
    "    svm.fit(X_train_big, y_train)\n",
    "    y_pred_big_valid = svm.predict(X_valid_big)\n",
    "    acc = accuracy_score(y_valid, y_pred_big_valid)\n",
    "    grid_params.append((cost, acc))\n",
    "    print(f\"ACCURACY SCORE with C = {cost} is: {acc}\")\n",
    "\n",
    "best_param = max(grid_params, key = lambda x: x[1])[0]\n",
    "print(\"The maximum accuracy is reached with C = \", best_param)"
   ]
  },
  {
   "cell_type": "markdown",
   "metadata": {
    "id": "y0KN_IffvMH0"
   },
   "source": [
    "#### Predicting on the test set"
   ]
  },
  {
   "cell_type": "code",
   "execution_count": 124,
   "metadata": {
    "colab": {
     "base_uri": "https://localhost:8080/",
     "height": 296
    },
    "executionInfo": {
     "elapsed": 56659,
     "status": "ok",
     "timestamp": 1666445449121,
     "user": {
      "displayName": "Alessandro Cortese",
      "userId": "14647393946910041170"
     },
     "user_tz": -120
    },
    "id": "HNg6ggw-vMH2",
    "outputId": "83f9ebc0-b9e9-44fa-c96f-9f3a02094c34"
   },
   "outputs": [
    {
     "name": "stdout",
     "output_type": "stream",
     "text": [
      "Accuracy:  0.578544061302682\n"
     ]
    },
    {
     "data": {
      "image/png": "[encoded data removed]",
      "text/plain": [
       "<Figure size 432x288 with 2 Axes>"
      ]
     },
     "metadata": {
      "needs_background": "light"
     },
     "output_type": "display_data"
    }
   ],
   "source": [
    "svm = SVC(kernel='linear', C = best_param) # we select the best cost parameter according to our grid search above\n",
    "svm.fit(X_train_big, y_train)\n",
    "y_pred_big = svm.predict(X_test_big)\n",
    "\n",
    "# Test accuracy\n",
    "print(\"Accuracy: \", accuracy_score(y_test, y_pred_big))\n",
    "\n",
    "conf_mat = ConfusionMatrixDisplay(confusion_matrix(y_test, y_pred_big))\n",
    "conf_mat.plot()\n",
    "plt.show()"
   ]
  },
  {
   "cell_type": "markdown",
   "metadata": {
    "id": "dB6VoB0-vMH2"
   },
   "source": [
    "### 3.4.2 Random Forest "
   ]
  },
  {
   "cell_type": "markdown",
   "metadata": {
    "id": "cmEqN-4kvMH3"
   },
   "source": [
    "#### Hyperparameter tuning"
   ]
  },
  {
   "cell_type": "code",
   "execution_count": 123,
   "metadata": {
    "colab": {
     "base_uri": "https://localhost:8080/"
    },
    "executionInfo": {
     "elapsed": 318311,
     "status": "ok",
     "timestamp": 1666445767771,
     "user": {
      "displayName": "Alessandro Cortese",
      "userId": "14647393946910041170"
     },
     "user_tz": -120
    },
    "id": "Gtv19JNOvMH4",
    "outputId": "1851cbb3-eb42-43a7-8b70-d3babf1463ff"
   },
   "outputs": [
    {
     "name": "stdout",
     "output_type": "stream",
     "text": [
      "ACCURACY SCORE with N_TREES = 50 is: 0.5491183879093199\n",
      "ACCURACY SCORE with N_TREES = 100 is: 0.5680100755667506\n",
      "ACCURACY SCORE with N_TREES = 200 is: 0.5730478589420654\n",
      "ACCURACY SCORE with N_TREES = 500 is: 0.570528967254408\n",
      "ACCURACY SCORE with N_TREES = 1000 is: 0.5730478589420654\n",
      "The maximum accuracy is reached with n_trees =  200\n"
     ]
    }
   ],
   "source": [
    "# Hyperparameter tuning \n",
    "n_features = X_train_big.shape[1]\n",
    "\n",
    "grid_params = []\n",
    "for n_trees in [50, 100, 200, 500, 1000]:\n",
    "        rfc = RandomForestClassifier(n_estimators = n_trees, random_state = 16)\n",
    "        rfc.fit(X_train_big, y_train)\n",
    "        y_pred_big_valid = rfc.predict(X_valid_big)\n",
    "        acc = accuracy_score(y_valid, y_pred_big_valid)\n",
    "        grid_params.append((n_trees, acc))\n",
    "        print(f\"ACCURACY SCORE with N_TREES = {n_trees} is: {acc}\")\n",
    "\n",
    "best_param = max(grid_params, key = lambda x: x[1])[0]\n",
    "print(\"The maximum accuracy is reached with n_trees = \", best_param)"
   ]
  },
  {
   "cell_type": "markdown",
   "metadata": {
    "id": "u_StMtIsvMH6"
   },
   "source": [
    "#### Predicting on the test set"
   ]
  },
  {
   "cell_type": "code",
   "execution_count": 125,
   "metadata": {
    "colab": {
     "base_uri": "https://localhost:8080/",
     "height": 296
    },
    "executionInfo": {
     "elapsed": 16930,
     "status": "ok",
     "timestamp": 1666445784695,
     "user": {
      "displayName": "Alessandro Cortese",
      "userId": "14647393946910041170"
     },
     "user_tz": -120
    },
    "id": "kBLQEp30vMH7",
    "outputId": "cac48c33-456c-47a9-e02a-0c3e8c71db9e"
   },
   "outputs": [
    {
     "name": "stdout",
     "output_type": "stream",
     "text": [
      "Accuracy:  0.5759897828863346\n"
     ]
    },
    {
     "data": {
      "image/png": "[encoded data removed]",
      "text/plain": [
       "<Figure size 432x288 with 2 Axes>"
      ]
     },
     "metadata": {
      "needs_background": "light"
     },
     "output_type": "display_data"
    }
   ],
   "source": [
    "rfc = RandomForestClassifier(n_estimators = 100, random_state = 16)\n",
    "rfc.fit(X_train_big, y_train)\n",
    "y_pred_big = rfc.predict(X_test_big)\n",
    "\n",
    "# Test accuracy\n",
    "print(\"Accuracy: \", accuracy_score(y_test, y_pred_big))\n",
    "\n",
    "conf_mat = ConfusionMatrixDisplay(confusion_matrix(y_test, y_pred_big))\n",
    "conf_mat.plot()\n",
    "plt.show()"
   ]
  },
  {
   "cell_type": "markdown",
   "metadata": {},
   "source": [
    "## 3.5 Adding metadata to the previous best model trained on Word2Vec embeddings (Google news)"
   ]
  },
  {
   "cell_type": "code",
   "execution_count": 137,
   "metadata": {},
   "outputs": [
    {
     "data": {
      "text/plain": [
       "(7993, 602)"
      ]
     },
     "execution_count": 137,
     "metadata": {},
     "output_type": "execute_result"
    }
   ],
   "source": [
    "# Creating the new merged matrix X with metadata\n",
    "X_df = pd.DataFrame(sents_mat_ggl, index = list(range(sents_mat_ggl.shape[0])), columns = list(range(sents_mat_ggl.shape[1])))\n",
    "X_md = X_df.merge(md_and_ctxt_df, left_index=True, right_index=True)\n",
    "X_md.shape"
   ]
  },
  {
   "cell_type": "code",
   "execution_count": 138,
   "metadata": {},
   "outputs": [],
   "source": [
    "# Train-valid-test split\n",
    "X_train_md = X_md.to_numpy()[:df_train.shape[0]]\n",
    "X_valid_md = X_md.to_numpy()[df_train.shape[0]:-df_test.shape[0]]\n",
    "X_test_md = X_md.to_numpy()[-df_test.shape[0]:]"
   ]
  },
  {
   "cell_type": "markdown",
   "metadata": {
    "id": "OL-s46ssGtt0"
   },
   "source": [
    "### 3.5.1 Support Vector Machine with linear kernel"
   ]
  },
  {
   "cell_type": "code",
   "execution_count": 48,
   "metadata": {
    "colab": {
     "base_uri": "https://localhost:8080/"
    },
    "executionInfo": {
     "elapsed": 679274,
     "status": "ok",
     "timestamp": 1666448263415,
     "user": {
      "displayName": "Alessandro Cortese",
      "userId": "14647393946910041170"
     },
     "user_tz": -120
    },
    "id": "VdVrRRcBGtt2",
    "outputId": "ed5effb0-5167-4190-c336-f4eeeb49e2f5"
   },
   "outputs": [],
   "source": [
    "# Hyperparameter tuning of the cost parameter with validation set approach and grid search.\n",
    "grid_params = []\n",
    "for cost in [0.001, 0.01, 0.1, 1, 10, 100]:\n",
    "    svm = SVC(kernel='linear', C = cost)\n",
    "    svm.fit(X_train_md, y_train)\n",
    "    y_pred_md_valid = svm.predict(X_valid_md)\n",
    "    acc = accuracy_score(y_valid, y_pred_md_valid)\n",
    "    grid_params.append((cost, acc))\n",
    "    print(f\"ACCURACY SCORE with C = {cost} is: {acc}\")\n",
    "\n",
    "best_param = max(grid_params, key = lambda x: x[1])[0]\n",
    "print(\"The maximum accuracy is reached with C = \", best_param)"
   ]
  },
  {
   "cell_type": "markdown",
   "metadata": {
    "id": "Rc9uTCoDGtt3"
   },
   "source": [
    "#### Predicting on the test set"
   ]
  },
  {
   "cell_type": "code",
   "execution_count": 140,
   "metadata": {
    "colab": {
     "base_uri": "https://localhost:8080/",
     "height": 297
    },
    "executionInfo": {
     "elapsed": 103950,
     "status": "ok",
     "timestamp": 1666448367356,
     "user": {
      "displayName": "Alessandro Cortese",
      "userId": "14647393946910041170"
     },
     "user_tz": -120
    },
    "id": "9O5hQeiLGtt3",
    "outputId": "c492e6a2-e2fc-49a2-b598-61ab0bd9cec7"
   },
   "outputs": [
    {
     "name": "stdout",
     "output_type": "stream",
     "text": [
      "Accuracy:  0.6756066411238825\n"
     ]
    },
    {
     "data": {
      "image/png": "[encoded data removed]",
      "text/plain": [
       "<Figure size 432x288 with 2 Axes>"
      ]
     },
     "metadata": {
      "needs_background": "light"
     },
     "output_type": "display_data"
    }
   ],
   "source": [
    "svm = SVC(kernel='linear', C = 0.1) # we select the best cost parameter according to our grid search above\n",
    "svm.fit(X_train_md, y_train)\n",
    "y_pred_md = svm.predict(X_test_md)\n",
    "\n",
    "# Test accuracy\n",
    "print(\"Accuracy: \", accuracy_score(y_test, y_pred_md))\n",
    "\n",
    "conf_mat = ConfusionMatrixDisplay(confusion_matrix(y_test, y_pred_md))\n",
    "conf_mat.plot()\n",
    "plt.show()"
   ]
  },
  {
   "cell_type": "markdown",
   "metadata": {
    "id": "kh0pEnlKGtt4"
   },
   "source": [
    "#### Feature importance\n",
    "\n"
   ]
  },
  {
   "cell_type": "code",
   "execution_count": null,
   "metadata": {
    "id": "4WjcNe_zGtt5"
   },
   "outputs": [],
   "source": [
    "def f_importances(coef, names, k = 15):\n",
    "    imp = coef\n",
    "    imp,names = zip(*sorted(zip(imp[:k],names[:k])))\n",
    "    \n",
    "    plt.barh(range(len(names[:k])), imp[:k], align='center')\n",
    "    plt.yticks(range(len(names[:k])), names[:k])\n",
    "    plt.show()"
   ]
  },
  {
   "cell_type": "code",
   "execution_count": null,
   "metadata": {
    "colab": {
     "base_uri": "https://localhost:8080/",
     "height": 265
    },
    "executionInfo": {
     "elapsed": 28,
     "status": "ok",
     "timestamp": 1666448367360,
     "user": {
      "displayName": "Alessandro Cortese",
      "userId": "14647393946910041170"
     },
     "user_tz": -120
    },
    "id": "Il-SplJrGtt5",
    "outputId": "d3387610-ecf3-4e3b-87f2-f21d44ba873e"
   },
   "outputs": [
    {
     "ename": "IndexError",
     "evalue": "list index out of range",
     "output_type": "error",
     "traceback": [
      "\u001b[0;31m---------------------------------------------------------------------------\u001b[0m\n",
      "\u001b[0;31mIndexError\u001b[0m                                Traceback (most recent call last)\n",
      "\u001b[0;32m<ipython-input-37-5cdab84295dc>\u001b[0m in \u001b[0;36m<module>\u001b[0;34m\u001b[0m\n",
      "\u001b[1;32m      6\u001b[0m \u001b[0;34m\u001b[0m\u001b[0m\n",
      "\u001b[1;32m      7\u001b[0m \u001b[0;32mfor\u001b[0m \u001b[0mi\u001b[0m\u001b[0;34m,\u001b[0m\u001b[0mx\u001b[0m \u001b[0;32min\u001b[0m \u001b[0mcoef_svm\u001b[0m\u001b[0;34m:\u001b[0m\u001b[0;34m\u001b[0m\u001b[0;34m\u001b[0m\u001b[0m\n",
      "\u001b[0;32m----> 8\u001b[0;31m     \u001b[0mfeature_names\u001b[0m\u001b[0;34m.\u001b[0m\u001b[0mappend\u001b[0m\u001b[0;34m(\u001b[0m\u001b[0msorted_feat_vocab\u001b[0m\u001b[0;34m[\u001b[0m\u001b[0mi\u001b[0m\u001b[0;34m]\u001b[0m\u001b[0;34m)\u001b[0m\u001b[0;34m\u001b[0m\u001b[0;34m\u001b[0m\u001b[0m\n",
      "\u001b[0m\u001b[1;32m      9\u001b[0m \u001b[0mcoef_svm\u001b[0m \u001b[0;34m=\u001b[0m \u001b[0;34m[\u001b[0m\u001b[0mx\u001b[0m\u001b[0;34m[\u001b[0m\u001b[0;36m1\u001b[0m\u001b[0;34m]\u001b[0m \u001b[0;32mfor\u001b[0m \u001b[0mx\u001b[0m \u001b[0;32min\u001b[0m \u001b[0mcoef_svm\u001b[0m\u001b[0;34m]\u001b[0m\u001b[0;34m\u001b[0m\u001b[0;34m\u001b[0m\u001b[0m\n",
      "\u001b[1;32m     10\u001b[0m \u001b[0;34m\u001b[0m\u001b[0m\n",
      "\n",
      "\u001b[0;31mIndexError\u001b[0m: list index out of range"
     ]
    }
   ],
   "source": [
    "# Feature importance: ranking the coefficients of the SVM model\n",
    "sorted_feat_vocab = sorted(TfV.vocabulary_.keys())\n",
    "coef_svm = list(enumerate(svm.coef_[0]))\n",
    "coef_svm = sorted(coef_svm, key = lambda k:k[1], reverse=True) # we sort the coefficients from highest to lowest\n",
    "feature_names = []\n",
    "\n",
    "for i,x in coef_svm:\n",
    "    feature_names.append(sorted_feat_vocab[i])\n",
    "coef_svm = [x[1] for x in coef_svm]\n",
    "\n",
    "f_importances(coef_svm, feature_names, 15)"
   ]
  },
  {
   "cell_type": "markdown",
   "metadata": {
    "id": "GxVIXNaxGtt6"
   },
   "source": [
    "### 3.5.2 Random Forest "
   ]
  },
  {
   "cell_type": "markdown",
   "metadata": {
    "id": "bLz1pFwcGtt7"
   },
   "source": [
    "#### Hyperparameter tuning"
   ]
  },
  {
   "cell_type": "code",
   "execution_count": 141,
   "metadata": {
    "colab": {
     "base_uri": "https://localhost:8080/"
    },
    "executionInfo": {
     "elapsed": 587784,
     "status": "ok",
     "timestamp": 1666448955121,
     "user": {
      "displayName": "Alessandro Cortese",
      "userId": "14647393946910041170"
     },
     "user_tz": -120
    },
    "id": "iHgWtU4QGtt7",
    "outputId": "3b51cd88-82e6-42cf-e461-822456a8240d"
   },
   "outputs": [
    {
     "name": "stdout",
     "output_type": "stream",
     "text": [
      "ACCURACY SCORE with N_TREES = 50 is: 0.6246851385390428\n",
      "ACCURACY SCORE with N_TREES = 100 is: 0.6360201511335013\n",
      "ACCURACY SCORE with N_TREES = 200 is: 0.6486146095717884\n",
      "ACCURACY SCORE with N_TREES = 500 is: 0.654911838790932\n",
      "ACCURACY SCORE with N_TREES = 1000 is: 0.646095717884131\n",
      "The maximum accuracy is reached with n_trees =  500\n"
     ]
    }
   ],
   "source": [
    "# Hyperparameter tuning \n",
    "n_features = X_train_md.shape[1]\n",
    "\n",
    "grid_params = []\n",
    "for n_trees in [50, 100, 200, 500, 1000]:\n",
    "        rfc = RandomForestClassifier(n_estimators = n_trees, random_state = 16)\n",
    "        rfc.fit(X_train_md, y_train)\n",
    "        y_pred_md_valid = rfc.predict(X_valid_md)\n",
    "        acc = accuracy_score(y_valid, y_pred_md_valid)\n",
    "        grid_params.append((n_trees, acc))\n",
    "        print(f\"ACCURACY SCORE with N_TREES = {n_trees} is: {acc}\")\n",
    "\n",
    "best_param = max(grid_params, key = lambda x: x[1])[0]\n",
    "print(\"The maximum accuracy is reached with n_trees = \", best_param)"
   ]
  },
  {
   "cell_type": "markdown",
   "metadata": {
    "id": "_lKUm6vrGtt8"
   },
   "source": [
    "#### Predicting on the test set"
   ]
  },
  {
   "cell_type": "code",
   "execution_count": 142,
   "metadata": {
    "colab": {
     "base_uri": "https://localhost:8080/",
     "height": 297
    },
    "executionInfo": {
     "elapsed": 15558,
     "status": "ok",
     "timestamp": 1666448970673,
     "user": {
      "displayName": "Alessandro Cortese",
      "userId": "14647393946910041170"
     },
     "user_tz": -120
    },
    "id": "nnoXw703Gtt8",
    "outputId": "7f9a9441-9916-4664-d2e3-2426bd481fe1"
   },
   "outputs": [
    {
     "name": "stdout",
     "output_type": "stream",
     "text": [
      "Accuracy:  0.6334610472541508\n"
     ]
    },
    {
     "data": {
      "image/png": "[encoded data removed]",
      "text/plain": [
       "<Figure size 432x288 with 2 Axes>"
      ]
     },
     "metadata": {
      "needs_background": "light"
     },
     "output_type": "display_data"
    }
   ],
   "source": [
    "rfc = RandomForestClassifier(n_estimators = best_param, random_state = 16)\n",
    "rfc.fit(X_train_md, y_train)\n",
    "y_pred_md = rfc.predict(X_test_md)\n",
    "\n",
    "# Test accuracy\n",
    "print(\"Accuracy: \", accuracy_score(y_test, y_pred_md))\n",
    "\n",
    "conf_mat = ConfusionMatrixDisplay(confusion_matrix(y_test, y_pred_md))\n",
    "conf_mat.plot()\n",
    "plt.show()"
   ]
  },
  {
   "cell_type": "markdown",
   "metadata": {
    "id": "iaY18quM9F8v"
   },
   "source": [
    "# 4. Doc2Vec"
   ]
  },
  {
   "cell_type": "code",
   "execution_count": 143,
   "metadata": {
    "id": "KByatcyl9Zgp"
   },
   "outputs": [],
   "source": [
    "# Creating the document vectors matrix\n",
    "docs = [TaggedDocument(doc, [i]) for i, doc in enumerate(stemmed_corpus)]\n",
    "model_d2v = Doc2Vec(docs, vector_size=100, window=2, min_count=1, workers=4)\n",
    "doc_mat = [model_d2v.dv[i] for i in range(len(stemmed_corpus))]"
   ]
  },
  {
   "cell_type": "code",
   "execution_count": 144,
   "metadata": {
    "id": "OtRNW2Sl9cyy"
   },
   "outputs": [],
   "source": [
    "# Train-valid-test split\n",
    "X_train_d2v = doc_mat[:df_train.shape[0]]\n",
    "X_valid_d2v= doc_mat[df_train.shape[0]:-df_test.shape[0]]\n",
    "X_test_d2v = doc_mat[-df_test.shape[0]:]"
   ]
  },
  {
   "cell_type": "markdown",
   "metadata": {
    "id": "OL-s46ssGtt0"
   },
   "source": [
    "## 4.1 Support Vector Machine with linear kernel"
   ]
  },
  {
   "cell_type": "code",
   "execution_count": 145,
   "metadata": {
    "colab": {
     "base_uri": "https://localhost:8080/"
    },
    "executionInfo": {
     "elapsed": 679274,
     "status": "ok",
     "timestamp": 1666448263415,
     "user": {
      "displayName": "Alessandro Cortese",
      "userId": "14647393946910041170"
     },
     "user_tz": -120
    },
    "id": "VdVrRRcBGtt2",
    "outputId": "ed5effb0-5167-4190-c336-f4eeeb49e2f5"
   },
   "outputs": [
    {
     "name": "stdout",
     "output_type": "stream",
     "text": [
      "ACCURACY SCORE with C = 0.001 is: 0.5277078085642317\n",
      "ACCURACY SCORE with C = 0.01 is: 0.5277078085642317\n",
      "ACCURACY SCORE with C = 0.1 is: 0.5277078085642317\n",
      "ACCURACY SCORE with C = 1 is: 0.5277078085642317\n",
      "ACCURACY SCORE with C = 10 is: 0.5277078085642317\n",
      "ACCURACY SCORE with C = 100 is: 0.5642317380352645\n",
      "ACCURACY SCORE with C = 1000 is: 0.5642317380352645\n",
      "The maximum accuracy is reached with C =  100\n"
     ]
    }
   ],
   "source": [
    "# Hyperparameter tuning of the cost parameter with validation set approach and grid search.\n",
    "grid_params = []\n",
    "for cost in [0.001, 0.01, 0.1, 1, 10, 100, 1000]:\n",
    "    svm = SVC(kernel='linear', C = cost)\n",
    "    svm.fit(X_train_d2v, y_train)\n",
    "    y_pred_d2v_valid = svm.predict(X_valid_d2v)\n",
    "    acc = accuracy_score(y_valid, y_pred_d2v_valid)\n",
    "    grid_params.append((cost, acc))\n",
    "    print(f\"ACCURACY SCORE with C = {cost} is: {acc}\")\n",
    "\n",
    "best_param = max(grid_params, key = lambda x: x[1])[0]\n",
    "print(\"The maximum accuracy is reached with C = \", best_param)"
   ]
  },
  {
   "cell_type": "markdown",
   "metadata": {
    "id": "Rc9uTCoDGtt3"
   },
   "source": [
    "#### Predicting on the test set"
   ]
  },
  {
   "cell_type": "code",
   "execution_count": 146,
   "metadata": {
    "colab": {
     "base_uri": "https://localhost:8080/",
     "height": 297
    },
    "executionInfo": {
     "elapsed": 103950,
     "status": "ok",
     "timestamp": 1666448367356,
     "user": {
      "displayName": "Alessandro Cortese",
      "userId": "14647393946910041170"
     },
     "user_tz": -120
    },
    "id": "9O5hQeiLGtt3",
    "outputId": "c492e6a2-e2fc-49a2-b598-61ab0bd9cec7"
   },
   "outputs": [
    {
     "name": "stdout",
     "output_type": "stream",
     "text": [
      "Accuracy:  0.5925925925925926\n"
     ]
    },
    {
     "data": {
      "image/png": "[encoded data removed]",
      "text/plain": [
       "<Figure size 432x288 with 2 Axes>"
      ]
     },
     "metadata": {
      "needs_background": "light"
     },
     "output_type": "display_data"
    }
   ],
   "source": [
    "svm = SVC(kernel='linear', C = best_param) # we select the best cost parameter according to our grid search above\n",
    "svm.fit(X_train_d2v, y_train)\n",
    "y_pred_d2v = svm.predict(X_test_d2v)\n",
    "\n",
    "# Test accuracy\n",
    "print(\"Accuracy: \", accuracy_score(y_test, y_pred_d2v))\n",
    "\n",
    "conf_mat = ConfusionMatrixDisplay(confusion_matrix(y_test, y_pred_d2v))\n",
    "conf_mat.plot()\n",
    "plt.show()"
   ]
  },
  {
   "cell_type": "markdown",
   "metadata": {
    "id": "kh0pEnlKGtt4"
   },
   "source": [
    "#### Feature importance\n",
    "\n"
   ]
  },
  {
   "cell_type": "code",
   "execution_count": null,
   "metadata": {
    "id": "4WjcNe_zGtt5"
   },
   "outputs": [],
   "source": [
    "def f_importances(coef, names, k = 15):\n",
    "    imp = coef\n",
    "    imp,names = zip(*sorted(zip(imp[:k],names[:k])))\n",
    "    \n",
    "    plt.barh(range(len(names[:k])), imp[:k], align='center')\n",
    "    plt.yticks(range(len(names[:k])), names[:k])\n",
    "    plt.show()"
   ]
  },
  {
   "cell_type": "code",
   "execution_count": 49,
   "metadata": {
    "colab": {
     "base_uri": "https://localhost:8080/",
     "height": 265
    },
    "executionInfo": {
     "elapsed": 28,
     "status": "ok",
     "timestamp": 1666448367360,
     "user": {
      "displayName": "Alessandro Cortese",
      "userId": "14647393946910041170"
     },
     "user_tz": -120
    },
    "id": "Il-SplJrGtt5",
    "outputId": "d3387610-ecf3-4e3b-87f2-f21d44ba873e"
   },
   "outputs": [],
   "source": [
    "# Feature importance: ranking the coefficients of the SVM model\n",
    "sorted_feat_vocab = sorted(TfV.vocabulary_.keys())\n",
    "coef_svm = list(enumerate(svm.coef_[0]))\n",
    "coef_svm = sorted(coef_svm, key = lambda k:k[1], reverse=True) # we sort the coefficients from highest to lowest\n",
    "feature_names = []\n",
    "\n",
    "for i,x in coef_svm:\n",
    "    feature_names.append(sorted_feat_vocab[i])\n",
    "coef_svm = [x[1] for x in coef_svm]\n",
    "\n",
    "f_importances(coef_svm, feature_names, 15)"
   ]
  },
  {
   "cell_type": "markdown",
   "metadata": {
    "id": "GxVIXNaxGtt6"
   },
   "source": [
    "## 4.2 Random Forest "
   ]
  },
  {
   "cell_type": "markdown",
   "metadata": {
    "id": "bLz1pFwcGtt7"
   },
   "source": [
    "#### Hyperparameter tuning"
   ]
  },
  {
   "cell_type": "code",
   "execution_count": 148,
   "metadata": {
    "colab": {
     "base_uri": "https://localhost:8080/"
    },
    "executionInfo": {
     "elapsed": 587784,
     "status": "ok",
     "timestamp": 1666448955121,
     "user": {
      "displayName": "Alessandro Cortese",
      "userId": "14647393946910041170"
     },
     "user_tz": -120
    },
    "id": "iHgWtU4QGtt7",
    "outputId": "3b51cd88-82e6-42cf-e461-822456a8240d"
   },
   "outputs": [
    {
     "name": "stdout",
     "output_type": "stream",
     "text": [
      "ACCURACY SCORE with N_TREES = 50 is: 0.575566750629723\n",
      "ACCURACY SCORE with N_TREES = 100 is: 0.5856423173803527\n",
      "ACCURACY SCORE with N_TREES = 200 is: 0.5780856423173804\n",
      "ACCURACY SCORE with N_TREES = 500 is: 0.570528967254408\n",
      "ACCURACY SCORE with N_TREES = 1000 is: 0.570528967254408\n",
      "The maximum accuracy is reached with n_trees =  100\n"
     ]
    }
   ],
   "source": [
    "# Hyperparameter tuning \n",
    "grid_params = []\n",
    "for n_trees in [50, 100, 200, 500, 1000]:\n",
    "        rfc = RandomForestClassifier(n_estimators = n_trees, random_state = 16)\n",
    "        rfc.fit(X_train_d2v, y_train)\n",
    "        y_pred_d2v_valid = rfc.predict(X_valid_d2v)\n",
    "        acc = accuracy_score(y_valid, y_pred_d2v_valid)\n",
    "        grid_params.append((n_trees, acc))\n",
    "        print(f\"ACCURACY SCORE with N_TREES = {n_trees} is: {acc}\")\n",
    "\n",
    "best_param = max(grid_params, key = lambda x: x[1])[0]\n",
    "print(\"The maximum accuracy is reached with n_trees = \", best_param)"
   ]
  },
  {
   "cell_type": "markdown",
   "metadata": {
    "id": "_lKUm6vrGtt8"
   },
   "source": [
    "#### Predicting on the test set"
   ]
  },
  {
   "cell_type": "code",
   "execution_count": 149,
   "metadata": {
    "colab": {
     "base_uri": "https://localhost:8080/",
     "height": 297
    },
    "executionInfo": {
     "elapsed": 15558,
     "status": "ok",
     "timestamp": 1666448970673,
     "user": {
      "displayName": "Alessandro Cortese",
      "userId": "14647393946910041170"
     },
     "user_tz": -120
    },
    "id": "nnoXw703Gtt8",
    "outputId": "7f9a9441-9916-4664-d2e3-2426bd481fe1"
   },
   "outputs": [
    {
     "name": "stdout",
     "output_type": "stream",
     "text": [
      "Accuracy:  0.5964240102171137\n"
     ]
    },
    {
     "data": {
      "image/png": "[encoded data removed]",
      "text/plain": [
       "<Figure size 432x288 with 2 Axes>"
      ]
     },
     "metadata": {
      "needs_background": "light"
     },
     "output_type": "display_data"
    }
   ],
   "source": [
    "rfc = RandomForestClassifier(n_estimators = best_param, random_state = 16)\n",
    "rfc.fit(X_train_d2v, y_train)\n",
    "y_pred_d2v = rfc.predict(X_test_d2v)\n",
    "\n",
    "# Test accuracy\n",
    "print(\"Accuracy: \", accuracy_score(y_test, y_pred_d2v))\n",
    "\n",
    "conf_mat = ConfusionMatrixDisplay(confusion_matrix(y_test, y_pred_d2v))\n",
    "conf_mat.plot()\n",
    "plt.show()"
   ]
  }
 ],
 "metadata": {
  "colab": {
   "collapsed_sections": [],
   "provenance": []
  },
  "kernelspec": {
   "display_name": "Python 3 (ipykernel)",
   "language": "python",
   "name": "python3"
  },
  "language_info": {
   "codemirror_mode": {
    "name": "ipython",
    "version": 3
   },
   "file_extension": ".py",
   "mimetype": "text/x-python",
   "name": "python",
   "nbconvert_exporter": "python",
   "pygments_lexer": "ipython3",
   "version": "3.9.7"
  },
  "vscode": {
   "interpreter": {
    "hash": "812078f6f600f88f51136e64fa6c3dc8fd5b5c56ce56001a5dd0136793a692e6"
   }
  }
 },
 "nbformat": 4,
 "nbformat_minor": 1
}
